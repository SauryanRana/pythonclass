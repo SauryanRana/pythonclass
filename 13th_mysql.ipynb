{
 "cells": [
  {
   "cell_type": "code",
   "execution_count": 4,
   "id": "52671ead",
   "metadata": {},
   "outputs": [],
   "source": [
    "import mysql.connector\n",
    "\n",
    "database= mysql.connector.connect( #connects the data base\n",
    "    host= \"localhost\",\n",
    "    user= \"root\",\n",
    "    password=\"\",\n",
    "    database= \"class8ampython\")\n",
    "\n",
    "db= database.cursor() #command"
   ]
  },
  {
   "cell_type": "code",
   "execution_count": 5,
   "id": "3a246bc0",
   "metadata": {},
   "outputs": [
    {
     "name": "stdout",
     "output_type": "stream",
     "text": [
      "(1, 'ram', 54, 78, 67, 87, 86, 412, 80.0, 'A')\n",
      "(2, 'shyam', 78, 69, 96, 56, 77, 400, 80.0, 'A')\n",
      "(3, 'ram', 54, 78, 67, 87, 86, 412, 80.0, 'A')\n",
      "(4, 'shyam', 78, 69, 96, 56, 77, 400, 80.0, 'A')\n",
      "(5, 'gita', 54, 34, 54, 87, 65, 435, 80.0, 'A')\n",
      "(6, 'sdita', 55, 67, 87, 98, 67, 450, 90.0, 'A')\n"
     ]
    }
   ],
   "source": [
    "sql= \"SELECT * FROM student\"\n",
    "db.execute(sql)\n",
    "result =db.fetchall()\n",
    "for x in result:\n",
    "    print(x)"
   ]
  },
  {
   "cell_type": "code",
   "execution_count": 6,
   "id": "c6ed8515",
   "metadata": {},
   "outputs": [
    {
     "name": "stdout",
     "output_type": "stream",
     "text": [
      "(1, 'ram', 'A')\n",
      "(2, 'shyam', 'A')\n",
      "(3, 'ram', 'A')\n",
      "(4, 'shyam', 'A')\n",
      "(5, 'gita', 'A')\n",
      "(6, 'sdita', 'A')\n"
     ]
    }
   ],
   "source": [
    "sql= \"SELECT sn,name,grade FROM student\"\n",
    "db.execute(sql)\n",
    "result =db.fetchall()\n",
    "for x in result:\n",
    "    print(x)"
   ]
  },
  {
   "cell_type": "code",
   "execution_count": 8,
   "id": "1eabcfad",
   "metadata": {},
   "outputs": [],
   "source": [
    "sql=\"INSERT INTO student( name, physics, chemistry, math, english, nepali, total, percentage, grade) VALUES ('sdita',55,67,87,98,67,450,90,'A')\"\n",
    "db.execute(sql)\n",
    "database.commit()\n"
   ]
  },
  {
   "cell_type": "code",
   "execution_count": 10,
   "id": "bf865572",
   "metadata": {},
   "outputs": [],
   "source": [
    "sql=\"DELETE FROM student where sn=1\"\n",
    "db.execute(sql)\n",
    "database.commit()"
   ]
  },
  {
   "cell_type": "code",
   "execution_count": 11,
   "id": "3825edbc",
   "metadata": {},
   "outputs": [
    {
     "name": "stdout",
     "output_type": "stream",
     "text": [
      "(2, 'shyam', 'A')\n",
      "(3, 'ram', 'A')\n",
      "(4, 'shyam', 'A')\n",
      "(5, 'gita', 'A')\n",
      "(6, 'sdita', 'A')\n",
      "(7, 'sdita', 'A')\n",
      "(8, 'sdita', 'A')\n"
     ]
    }
   ],
   "source": [
    "sql= \"SELECT sn,name,grade FROM student\"\n",
    "db.execute(sql)\n",
    "result =db.fetchall()\n",
    "for x in result:\n",
    "    print(x)"
   ]
  },
  {
   "cell_type": "code",
   "execution_count": 16,
   "id": "6457e9c1",
   "metadata": {},
   "outputs": [
    {
     "name": "stdout",
     "output_type": "stream",
     "text": [
      "(5, 'gita', 54, 34, 54, 87, 65, 435, 80.0, 'A')\n",
      "(6, 'sdita', 55, 67, 87, 98, 67, 450, 90.0, 'A')\n",
      "(7, 'sdita', 55, 67, 87, 98, 67, 450, 90.0, 'A')\n",
      "(8, 'sdita', 55, 67, 87, 98, 67, 450, 90.0, 'A')\n"
     ]
    }
   ],
   "source": [
    "sql= \"SELECT * FROM student WHERE name LIKE '%ita%'\"\n",
    "db.execute(sql)\n",
    "result =db.fetchall()\n",
    "for x in result:\n",
    "    print(x)"
   ]
  },
  {
   "cell_type": "code",
   "execution_count": 18,
   "id": "e11ad073",
   "metadata": {},
   "outputs": [],
   "source": [
    "sql=\"UPDATE student SET name= 'sauryan' where name='shyam'\"\n",
    "db.execute(sql)\n",
    "database.commit()"
   ]
  },
  {
   "cell_type": "code",
   "execution_count": 21,
   "id": "84202d4b",
   "metadata": {},
   "outputs": [
    {
     "name": "stdout",
     "output_type": "stream",
     "text": [
      "(2, 'sauryan', 78, 69, 96, 56, 77, 400, 80.0, 'A')\n",
      "(3, 'ram', 54, 78, 67, 87, 86, 412, 80.0, 'A')\n",
      "(4, 'sauryan', 78, 69, 96, 56, 77, 400, 80.0, 'A')\n",
      "(5, 'gita', 54, 34, 54, 87, 65, 435, 80.0, 'A')\n",
      "(6, 'sdita', 55, 67, 87, 98, 67, 450, 90.0, 'A')\n",
      "(7, 'sdita', 55, 67, 87, 98, 67, 450, 90.0, 'A')\n",
      "(8, 'sdita', 55, 67, 87, 98, 67, 450, 90.0, 'A')\n"
     ]
    }
   ],
   "source": [
    "sql= \"SELECT * FROM student\"\n",
    "db.execute(sql)\n",
    "result =db.fetchall()\n",
    "for x in result:\n",
    "    print(x)"
   ]
  },
  {
   "cell_type": "code",
   "execution_count": 22,
   "id": "e0301829",
   "metadata": {},
   "outputs": [
    {
     "name": "stdout",
     "output_type": "stream",
     "text": [
      "enter n= 1\n",
      "enter name- sara\n",
      "enter physics= 90\n",
      "enter chemistry= 98\n",
      "enter math= 99\n",
      "enter english= 100\n",
      "enter nepali= 90\n"
     ]
    }
   ],
   "source": [
    "n=int(input(\"enter n= \"))\n",
    "for i in range(n):\n",
    "    name= input(\"enter name- \")\n",
    "    physics= int(input(\"enter physics= \"))\n",
    "    chemistry= int(input(\"enter chemistry= \"))\n",
    "    math= int(input(\"enter math= \"))\n",
    "    english= int(input(\"enter english= \"))\n",
    "    nepali= int(input(\"enter nepali= \"))\n",
    "    total= sum([physics, chemistry, math, english, nepali])\n",
    "    per= total/5\n",
    "    if per>80:\n",
    "        grade= 'A'\n",
    "    elif per>60:\n",
    "        grade= 'B'\n",
    "    elif per>50:\n",
    "        grade= 'C'\n",
    "    else:\n",
    "        grade= 'F'\n",
    "        \n",
    "\n",
    "sql= f\"INSERT INTO student( name, physics, chemistry, math, english, nepali, total, percentage, grade) \n",
    "     VALUES ('{name}',{physics},{chemistry},{math},{english},{nepali},{total},{per},'{grade}')\"\n",
    "db.execute(sql)\n",
    "database.commit()\n",
    "\n"
   ]
  },
  {
   "cell_type": "code",
   "execution_count": 23,
   "id": "15fa51bf",
   "metadata": {},
   "outputs": [
    {
     "name": "stdout",
     "output_type": "stream",
     "text": [
      "(2, 'sauryan', 78, 69, 96, 56, 77, 400, 80.0, 'A')\n",
      "(3, 'ram', 54, 78, 67, 87, 86, 412, 80.0, 'A')\n",
      "(4, 'sauryan', 78, 69, 96, 56, 77, 400, 80.0, 'A')\n",
      "(5, 'hari', 54, 34, 54, 87, 65, 435, 80.0, 'A')\n",
      "(6, 'sdita', 55, 67, 87, 98, 67, 450, 90.0, 'A')\n",
      "(7, 'geeta', 55, 67, 87, 98, 67, 450, 90.0, 'A')\n",
      "(8, 'laxmi', 55, 67, 87, 98, 67, 450, 90.0, 'A')\n",
      "(9, 'sara', 90, 98, 99, 100, 90, 477, 95.4, 'A')\n"
     ]
    }
   ],
   "source": [
    "sql= \"SELECT * FROM student\"\n",
    "db.execute(sql)\n",
    "result =db.fetchall()\n",
    "for x in result:\n",
    "    print(x)"
   ]
  },
  {
   "cell_type": "code",
   "execution_count": null,
   "id": "50f7359a",
   "metadata": {},
   "outputs": [],
   "source": []
  }
 ],
 "metadata": {
  "kernelspec": {
   "display_name": "Python 3 (ipykernel)",
   "language": "python",
   "name": "python3"
  },
  "language_info": {
   "codemirror_mode": {
    "name": "ipython",
    "version": 3
   },
   "file_extension": ".py",
   "mimetype": "text/x-python",
   "name": "python",
   "nbconvert_exporter": "python",
   "pygments_lexer": "ipython3",
   "version": "3.9.7"
  }
 },
 "nbformat": 4,
 "nbformat_minor": 5
}
