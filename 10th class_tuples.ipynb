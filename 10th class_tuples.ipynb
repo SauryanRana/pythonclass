{
 "cells": [
  {
   "cell_type": "code",
   "execution_count": 4,
   "id": "5b698e4c",
   "metadata": {},
   "outputs": [
    {
     "name": "stdout",
     "output_type": "stream",
     "text": [
      "1\n"
     ]
    },
    {
     "data": {
      "text/plain": [
       "tuple"
      ]
     },
     "execution_count": 4,
     "metadata": {},
     "output_type": "execute_result"
    }
   ],
   "source": [
    "#tuples\n",
    "\n",
    "a=(1,2,3,4,5,6)\n",
    "print(a[0])\n",
    "type(a)"
   ]
  },
  {
   "cell_type": "code",
   "execution_count": 2,
   "id": "9ea73888",
   "metadata": {},
   "outputs": [],
   "source": [
    "# Tuple:\n",
    "#     -index\n",
    "#     -ordered\n",
    "#     -duplicate member\n",
    "#     -imuatable"
   ]
  },
  {
   "cell_type": "code",
   "execution_count": 9,
   "id": "8e208040",
   "metadata": {},
   "outputs": [
    {
     "name": "stdout",
     "output_type": "stream",
     "text": [
      "apple\n",
      "ball\n",
      "('apple', 'ball', 'cat', 'dog', 'fish', 'elephant')\n"
     ]
    }
   ],
   "source": [
    "#indexing\n",
    "\n",
    "a=(1,2,3,4,5,6)\n",
    "b= ('apple','ball','cat','dog','fish','elephant')\n",
    "print(b[0])\n",
    "print(b[1])\n",
    "print(b)"
   ]
  },
  {
   "cell_type": "code",
   "execution_count": 8,
   "id": "f2a0b678",
   "metadata": {},
   "outputs": [
    {
     "name": "stdout",
     "output_type": "stream",
     "text": [
      "(1, 2, 3, 4, 5, 6, 'apple', 'ball', 'cat', 'dog', 'fish')\n"
     ]
    }
   ],
   "source": [
    "c= a+b\n",
    "print(c)"
   ]
  },
  {
   "cell_type": "code",
   "execution_count": 10,
   "id": "5bb76cc3",
   "metadata": {},
   "outputs": [],
   "source": [
    "# not changable- append(), extend(),insert(),sort()\n",
    "# no update()\n",
    "# no delete[], pop(), remove()"
   ]
  },
  {
   "cell_type": "code",
   "execution_count": 16,
   "id": "abd4cb41",
   "metadata": {},
   "outputs": [
    {
     "name": "stdout",
     "output_type": "stream",
     "text": [
      "1\n",
      "<class 'int'>\n",
      "<class 'tuple'>\n"
     ]
    }
   ],
   "source": [
    "a=(1) # one element inside tuples is considered as int\n",
    "b= (1,) # add comma to make it tuple\n",
    "print(a)\n",
    "print(type(a))\n",
    "print(type(b))"
   ]
  },
  {
   "cell_type": "code",
   "execution_count": 18,
   "id": "1ed5a2a3",
   "metadata": {},
   "outputs": [
    {
     "data": {
      "text/plain": [
       "('apple',)"
      ]
     },
     "execution_count": 18,
     "metadata": {},
     "output_type": "execute_result"
    }
   ],
   "source": [
    "a= tuple()\n",
    "b= (\"apple\",) #cannot append in tuple; use concatenation\n",
    "a+b\n"
   ]
  },
  {
   "cell_type": "code",
   "execution_count": 19,
   "id": "4e96704d",
   "metadata": {},
   "outputs": [
    {
     "name": "stdout",
     "output_type": "stream",
     "text": [
      "enter the value on n- 3\n",
      "enter the value of x- 2\n",
      "enter the value of x- 4\n",
      "enter the value of x- 5\n",
      "('2', '4', '5')\n"
     ]
    }
   ],
   "source": [
    "y= tuple()\n",
    "n= int(input(\"enter the value on n- \"))\n",
    "for i in range (n):\n",
    "    x= input(\"enter the value of x- \")\n",
    "    y= y+(x,)\n",
    "    \n",
    "print(y)"
   ]
  },
  {
   "cell_type": "code",
   "execution_count": 22,
   "id": "e2aef9cd",
   "metadata": {},
   "outputs": [
    {
     "name": "stdout",
     "output_type": "stream",
     "text": [
      "['2', '5']\n",
      "('2', '5')\n"
     ]
    }
   ],
   "source": [
    "a= ('2', '4', '5')\n",
    "b=list(a)\n",
    "b.remove(b[1])\n",
    "print(b)\n",
    "a= tuple(b)\n",
    "print(a)"
   ]
  },
  {
   "cell_type": "code",
   "execution_count": 23,
   "id": "5906cde7",
   "metadata": {},
   "outputs": [
    {
     "data": {
      "text/plain": [
       "(20, 30)"
      ]
     },
     "execution_count": 23,
     "metadata": {},
     "output_type": "execute_result"
    }
   ],
   "source": [
    "def cal():\n",
    "    a=20\n",
    "    v=30\n",
    "    \n",
    "    return a,v\n",
    "cal()"
   ]
  },
  {
   "cell_type": "code",
   "execution_count": 24,
   "id": "c6c0fae9",
   "metadata": {},
   "outputs": [
    {
     "name": "stdout",
     "output_type": "stream",
     "text": [
      "{('ram', 'shyam'): 98432}\n"
     ]
    }
   ],
   "source": [
    "a= {('ram', 'shyam'): 98432}\n",
    "print(a)"
   ]
  },
  {
   "cell_type": "code",
   "execution_count": 25,
   "id": "49a0ddee",
   "metadata": {},
   "outputs": [
    {
     "ename": "TypeError",
     "evalue": "unhashable type: 'list'",
     "output_type": "error",
     "traceback": [
      "\u001b[1;31m---------------------------------------------------------------------------\u001b[0m",
      "\u001b[1;31mTypeError\u001b[0m                                 Traceback (most recent call last)",
      "\u001b[1;32m~\\AppData\\Local\\Temp/ipykernel_7948/2094069242.py\u001b[0m in \u001b[0;36m<module>\u001b[1;34m\u001b[0m\n\u001b[1;32m----> 1\u001b[1;33m \u001b[0ma\u001b[0m\u001b[1;33m=\u001b[0m \u001b[1;33m{\u001b[0m\u001b[1;33m[\u001b[0m\u001b[1;34m'ram'\u001b[0m\u001b[1;33m,\u001b[0m \u001b[1;34m'shyam'\u001b[0m\u001b[1;33m]\u001b[0m\u001b[1;33m:\u001b[0m \u001b[1;36m98432\u001b[0m\u001b[1;33m}\u001b[0m \u001b[1;31m#list cannot be used in key in dict\u001b[0m\u001b[1;33m\u001b[0m\u001b[1;33m\u001b[0m\u001b[0m\n\u001b[0m\u001b[0;32m      2\u001b[0m \u001b[0mprint\u001b[0m\u001b[1;33m(\u001b[0m\u001b[0ma\u001b[0m\u001b[1;33m)\u001b[0m\u001b[1;33m\u001b[0m\u001b[1;33m\u001b[0m\u001b[0m\n",
      "\u001b[1;31mTypeError\u001b[0m: unhashable type: 'list'"
     ]
    }
   ],
   "source": [
    "a= {['ram', 'shyam']: 98432} #list cannot be used in key in dict\n",
    "print(a)"
   ]
  },
  {
   "cell_type": "code",
   "execution_count": 27,
   "id": "f6b66ed7",
   "metadata": {},
   "outputs": [
    {
     "name": "stdout",
     "output_type": "stream",
     "text": [
      "{235325: ('ram', 'shyam')}\n"
     ]
    }
   ],
   "source": [
    "a= {235325: ('ram','shyam')}\n",
    "print(a)"
   ]
  },
  {
   "cell_type": "code",
   "execution_count": 32,
   "id": "7895c4df",
   "metadata": {},
   "outputs": [
    {
     "name": "stdout",
     "output_type": "stream",
     "text": [
      "[1, 2, 3, 3, 4, 4, 5, 6]\n",
      "(1, 2, 3, 4, 5, 6, 3, 4)\n"
     ]
    }
   ],
   "source": [
    "a=(1,2,3,4,5,6,3,4)\n",
    "print(sorted(a)) #sorted and converted to list\n",
    "print(a) #unsorted\n"
   ]
  },
  {
   "cell_type": "code",
   "execution_count": 33,
   "id": "b7c370b7",
   "metadata": {},
   "outputs": [
    {
     "name": "stdout",
     "output_type": "stream",
     "text": [
      "[(1, 2, 3), (4, 5, 6), (7, 8, 9)]\n"
     ]
    }
   ],
   "source": [
    "a=[(1,2,3), (4,5,6),( 7,8,9)]\n",
    "print(a)"
   ]
  },
  {
   "cell_type": "code",
   "execution_count": 34,
   "id": "bce34fce",
   "metadata": {},
   "outputs": [
    {
     "name": "stdout",
     "output_type": "stream",
     "text": [
      "[(1, 2, 3), (4, 5, 6), (7, 8, 9), (9, 10, 11)]\n"
     ]
    }
   ],
   "source": [
    "a.append((9,10,11))\n",
    "print(a)"
   ]
  },
  {
   "cell_type": "code",
   "execution_count": 37,
   "id": "bc92027c",
   "metadata": {},
   "outputs": [
    {
     "name": "stdout",
     "output_type": "stream",
     "text": [
      "([1, 2, 3], [4, 5, 6], [7, 8, 9], [10, 11, 12])\n"
     ]
    }
   ],
   "source": [
    "a= ([1,2,3], [4,5,6],[7,8,9])\n",
    "b= ([10,11,12],)\n",
    "c=a+b\n",
    "print(c)"
   ]
  },
  {
   "cell_type": "code",
   "execution_count": 38,
   "id": "771bda9e",
   "metadata": {},
   "outputs": [
    {
     "name": "stdout",
     "output_type": "stream",
     "text": [
      "([1, 2, 3, 4], [4, 5, 6], [7, 8, 9])\n"
     ]
    }
   ],
   "source": [
    "a= ([1,2,3], [4,5,6],[7,8,9])\n",
    "a[0].append(4)\n",
    "print(a)"
   ]
  },
  {
   "cell_type": "code",
   "execution_count": null,
   "id": "e6debcba",
   "metadata": {},
   "outputs": [],
   "source": []
  }
 ],
 "metadata": {
  "kernelspec": {
   "display_name": "Python 3 (ipykernel)",
   "language": "python",
   "name": "python3"
  },
  "language_info": {
   "codemirror_mode": {
    "name": "ipython",
    "version": 3
   },
   "file_extension": ".py",
   "mimetype": "text/x-python",
   "name": "python",
   "nbconvert_exporter": "python",
   "pygments_lexer": "ipython3",
   "version": "3.9.7"
  }
 },
 "nbformat": 4,
 "nbformat_minor": 5
}
