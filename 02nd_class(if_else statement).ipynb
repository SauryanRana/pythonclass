{
 "cells": [
  {
   "cell_type": "code",
   "execution_count": 1,
   "id": "10f3023c",
   "metadata": {},
   "outputs": [],
   "source": [
    "# basic syntax\n",
    "\n",
    "# if <condition>:\n",
    "#     <operations>\n",
    "# elif <condition>:\n",
    "#     <operations>\n",
    "# ...\n",
    "# else: \n",
    "#     <operation>"
   ]
  },
  {
   "cell_type": "code",
   "execution_count": 5,
   "id": "7e6fe2ed",
   "metadata": {},
   "outputs": [
    {
     "name": "stdout",
     "output_type": "stream",
     "text": [
      "True\n",
      "False\n",
      "True\n"
     ]
    }
   ],
   "source": [
    "#operators\n",
    "\n",
    "#< > <= >= == !=(not equals to)\n",
    "\n",
    "a=10\n",
    "b=20\n",
    "\n",
    "print(a<b)\n",
    "print(a>b)\n",
    "print(a!=b)"
   ]
  },
  {
   "cell_type": "code",
   "execution_count": 7,
   "id": "5b074045",
   "metadata": {},
   "outputs": [
    {
     "name": "stdout",
     "output_type": "stream",
     "text": [
      "b is greater\n"
     ]
    }
   ],
   "source": [
    "a=10\n",
    "b=20\n",
    "\n",
    "if a<b:\n",
    "    print(\"b is greater\")\n",
    "elif a>b:\n",
    "    print(\"a is greater\")\n",
    "else:\n",
    "    print(\"both are equal\")\n",
    "    "
   ]
  },
  {
   "cell_type": "code",
   "execution_count": 11,
   "id": "bae9e307",
   "metadata": {},
   "outputs": [
    {
     "name": "stdout",
     "output_type": "stream",
     "text": [
      "enter any number 10\n",
      "a is even\n"
     ]
    }
   ],
   "source": [
    "a= int(input(\"enter the value of a \"))\n",
    "\n",
    "if a%2 == 0:\n",
    "    print(\"a is even\")\n",
    "else:\n",
    "    print(\"a is odd\")"
   ]
  },
  {
   "cell_type": "code",
   "execution_count": 13,
   "id": "4e789fa7",
   "metadata": {},
   "outputs": [
    {
     "name": "stdout",
     "output_type": "stream",
     "text": [
      "enter any number -12\n",
      "a is negative\n"
     ]
    }
   ],
   "source": [
    "a= int(input(\"enter the value of a \"))\n",
    "\n",
    "if a > 0:\n",
    "    print(\"a is positive\")\n",
    "else:\n",
    "    print(\"a is negative\")"
   ]
  },
  {
   "cell_type": "code",
   "execution_count": 15,
   "id": "7ac7cc03",
   "metadata": {},
   "outputs": [
    {
     "name": "stdout",
     "output_type": "stream",
     "text": [
      "enter the value of a 5\n",
      "enter the value of b 6\n",
      "enter +, -, *, /+\n",
      "11\n"
     ]
    }
   ],
   "source": [
    "a= int(input(\"enter the value of a \"))\n",
    "b= int(input(\"enter the value of b \"))\n",
    "o=input(\"enter +, -, *, /\")\n",
    "\n",
    "if o== \"+\":\n",
    "    print(a+b)\n",
    "elif o== \"-\":\n",
    "    print(a-b)\n",
    "elif o== \"*\":\n",
    "    print(a*b)\n",
    "elif o== \"/\":\n",
    "    print(a/b)\n",
    "else:\n",
    "    print(\"invalid operator\")\n",
    "   \n",
    "    "
   ]
  },
  {
   "cell_type": "code",
   "execution_count": 16,
   "id": "c8ff0aa6",
   "metadata": {},
   "outputs": [],
   "source": [
    "# and &\n",
    "# or |"
   ]
  },
  {
   "cell_type": "code",
   "execution_count": 17,
   "id": "55d42d97",
   "metadata": {},
   "outputs": [
    {
     "name": "stdout",
     "output_type": "stream",
     "text": [
      "True\n",
      "False\n"
     ]
    }
   ],
   "source": [
    "#and\n",
    "# 1*0=0\n",
    "# 0*1=0\n",
    "# 0*0=1\n",
    "# 1*1=0\n",
    "\n",
    "print (True and True)\n",
    "print (True and False)"
   ]
  },
  {
   "cell_type": "code",
   "execution_count": 19,
   "id": "20d1e2ad",
   "metadata": {},
   "outputs": [
    {
     "name": "stdout",
     "output_type": "stream",
     "text": [
      "True\n",
      "True\n",
      "False\n"
     ]
    }
   ],
   "source": [
    "# or\n",
    "# 1+0=1\n",
    "# 0+1=1\n",
    "# 1+1=0\n",
    "# 0+0=0\n",
    "\n",
    "print (True or True)\n",
    "print (True or False)\n",
    "print (False or False)\n",
    "\n"
   ]
  },
  {
   "cell_type": "code",
   "execution_count": 21,
   "id": "7b896bc6",
   "metadata": {},
   "outputs": [
    {
     "name": "stdout",
     "output_type": "stream",
     "text": [
      "enter the value of a 10\n",
      "enter the value of b 0\n",
      "enter +, -, *, / /\n",
      "the value cannot be 0\n"
     ]
    }
   ],
   "source": [
    "a= int(input(\"enter the value of a \"))\n",
    "b= int(input(\"enter the value of b \"))\n",
    "o=input(\"enter +, -, *, / \")\n",
    "\n",
    "if o== \"+\":\n",
    "    print(a+b)\n",
    "elif o== \"-\":\n",
    "    print(a-b)\n",
    "elif o== \"*\":\n",
    "    print(a*b)\n",
    "elif o== \"/\" and b!=0:\n",
    "    print(a/b)\n",
    "elif o== \"/\" and b==0:\n",
    "    print(\"the value cannot be 0\")\n",
    "else:\n",
    "    print(\"invalid operator\")"
   ]
  },
  {
   "cell_type": "code",
   "execution_count": 22,
   "id": "8ede2b65",
   "metadata": {},
   "outputs": [
    {
     "name": "stdout",
     "output_type": "stream",
     "text": [
      "first division\n"
     ]
    }
   ],
   "source": [
    "a= 60\n",
    "if a>60 or a==60:\n",
    "    print(\"first division\")"
   ]
  },
  {
   "cell_type": "code",
   "execution_count": 23,
   "id": "58c881c6",
   "metadata": {},
   "outputs": [],
   "source": [
    "#nested if condition\n",
    "\n",
    "# if <condition>:\n",
    "#     if<condition>:\n",
    "#         <operation>\n",
    "#     elif <condition>\n",
    "#         <operation>\n",
    "#     else:\n",
    "#         <operation>"
   ]
  },
  {
   "cell_type": "code",
   "execution_count": 26,
   "id": "ce4afead",
   "metadata": {},
   "outputs": [
    {
     "name": "stdout",
     "output_type": "stream",
     "text": [
      "enter the value of a 2\n",
      "enter the value of b 1\n",
      "enter +, -, *, / /\n",
      "2.0\n"
     ]
    }
   ],
   "source": [
    "a= int(input(\"enter the value of a \"))\n",
    "b= int(input(\"enter the value of b \"))\n",
    "o= input(\"enter +, -, *, / \")\n",
    "\n",
    "if o== \"+\":\n",
    "    print(a+b)\n",
    "elif o== \"-\":\n",
    "    print(a-b)\n",
    "elif o== \"*\":\n",
    "    print(a*b)\n",
    "    \n",
    "elif o== \"/\":\n",
    "    if b!= 0:\n",
    "        print(a/b)\n",
    "    else:\n",
    "        print(\"the value cannot be 0\")\n",
    "        \n",
    "else:\n",
    "    print(\"invalid operator\")"
   ]
  },
  {
   "cell_type": "code",
   "execution_count": null,
   "id": "4fa61c86",
   "metadata": {},
   "outputs": [],
   "source": []
  }
 ],
 "metadata": {
  "kernelspec": {
   "display_name": "Python 3 (ipykernel)",
   "language": "python",
   "name": "python3"
  },
  "language_info": {
   "codemirror_mode": {
    "name": "ipython",
    "version": 3
   },
   "file_extension": ".py",
   "mimetype": "text/x-python",
   "name": "python",
   "nbconvert_exporter": "python",
   "pygments_lexer": "ipython3",
   "version": "3.9.7"
  }
 },
 "nbformat": 4,
 "nbformat_minor": 5
}
