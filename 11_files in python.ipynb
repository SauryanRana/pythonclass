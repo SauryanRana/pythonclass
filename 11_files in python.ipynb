{
 "cells": [
  {
   "cell_type": "code",
   "execution_count": 1,
   "id": "98335a06",
   "metadata": {},
   "outputs": [],
   "source": [
    "# Files\n",
    "# b= open('file_name','<mode>')\n",
    "# b.close()"
   ]
  },
  {
   "cell_type": "code",
   "execution_count": 2,
   "id": "e8b6e195",
   "metadata": {},
   "outputs": [],
   "source": [
    "# with open (<file_name>,<modes>) as file:\n",
    "#     <operatios>"
   ]
  },
  {
   "cell_type": "code",
   "execution_count": 3,
   "id": "bb89cde8",
   "metadata": {},
   "outputs": [],
   "source": [
    "# modes:\n",
    "#     read- r\n",
    "#     write- w (overwrites the file)\n",
    "#     create- x\n",
    "#     append- a\n",
    "    "
   ]
  },
  {
   "cell_type": "code",
   "execution_count": 7,
   "id": "6de9c35a",
   "metadata": {},
   "outputs": [
    {
     "name": "stdout",
     "output_type": "stream",
     "text": [
      "File exist\n"
     ]
    }
   ],
   "source": [
    "try:\n",
    "\n",
    "    b=open('data.txt','x')\n",
    "    b.close() #cannot run again as same file cannot be created twice\n",
    "\n",
    "except:\n",
    "    print(\"File exist\")"
   ]
  },
  {
   "cell_type": "code",
   "execution_count": 3,
   "id": "0f254445",
   "metadata": {},
   "outputs": [
    {
     "name": "stdout",
     "output_type": "stream",
     "text": [
      "1. hello world\n",
      "2. hello world\n",
      "3. hello world\n",
      "4. hello world\n",
      "5. hello world\n",
      "6. hello world\n",
      "7. hello world\n",
      "8. hello world\n"
     ]
    }
   ],
   "source": [
    "with open('data.txt','r') as file:\n",
    "    print(file.read())\n",
    "    "
   ]
  },
  {
   "cell_type": "code",
   "execution_count": 10,
   "id": "f6e0a43a",
   "metadata": {},
   "outputs": [
    {
     "name": "stdout",
     "output_type": "stream",
     "text": [
      "1. hello world\n",
      "2. he\n"
     ]
    }
   ],
   "source": [
    "with open('data.txt','r') as file:\n",
    "    print(file.read(20)) #print 20 characters"
   ]
  },
  {
   "cell_type": "code",
   "execution_count": 15,
   "id": "e16af37e",
   "metadata": {},
   "outputs": [
    {
     "name": "stdout",
     "output_type": "stream",
     "text": [
      "1. hello world\n",
      "\n",
      "3. hello world\n",
      "\n"
     ]
    }
   ],
   "source": [
    "with open('data.txt','r') as file:\n",
    "    print(file.readline())#reads line\n",
    "    file.readline() #reads but doesn't print\n",
    "    print(file.readline())"
   ]
  },
  {
   "cell_type": "code",
   "execution_count": 14,
   "id": "e9b1744f",
   "metadata": {},
   "outputs": [
    {
     "name": "stdout",
     "output_type": "stream",
     "text": [
      "<class 'str'>\n"
     ]
    }
   ],
   "source": [
    "b= open('data.txt','r')\n",
    "x= b.read()\n",
    "print(type(x))\n",
    "b.close()"
   ]
  },
  {
   "cell_type": "code",
   "execution_count": 19,
   "id": "dc435220",
   "metadata": {},
   "outputs": [
    {
     "name": "stdout",
     "output_type": "stream",
     "text": [
      "enter the value of n 3\n",
      "3. hello world\n",
      "\n"
     ]
    }
   ],
   "source": [
    "n= int(input(\"enter the value of n \"))\n",
    "b= open('data.txt','r')\n",
    "\n",
    "for i in range(1,n+1):\n",
    "    if n != i:\n",
    "        b.readline()\n",
    "    else:\n",
    "        print(b.readline())\n",
    "        break\n",
    "b.close()"
   ]
  },
  {
   "cell_type": "code",
   "execution_count": 22,
   "id": "da3abf25",
   "metadata": {},
   "outputs": [],
   "source": [
    "with open('data.txt','a') as file:\n",
    "    file.write(\"\\n8. hello world\")\n",
    "    "
   ]
  },
  {
   "cell_type": "code",
   "execution_count": 23,
   "id": "cd6aa435",
   "metadata": {},
   "outputs": [
    {
     "name": "stdout",
     "output_type": "stream",
     "text": [
      "enter the value of n- 2\n",
      "enter product name- soap\n",
      "enter price- 20\n",
      "enter quantity- 1\n",
      "enter product name- earbud\n",
      "enter price- 45\n",
      "enter quantity- 2\n",
      "soap 20 1 20\n",
      "earbud 45 2 90\n",
      "\n"
     ]
    }
   ],
   "source": [
    "s= str()\n",
    "n= int(input(\"enter the value of n- \"))\n",
    "\n",
    "for i in range(n):\n",
    "    product= input(\"enter product name- \")\n",
    "    price = int(input(\"enter price- \"))\n",
    "    quantity= int(input(\"enter quantity- \"))\n",
    "    total= price*quantity\n",
    "    s=s+ f\"{product} {price} {quantity} {total}\\n\"\n",
    "print(s)\n",
    "\n",
    "with open('bill.txt','a') as file:\n",
    "    file.write(s)"
   ]
  },
  {
   "cell_type": "code",
   "execution_count": 25,
   "id": "55626a9d",
   "metadata": {},
   "outputs": [
    {
     "name": "stdout",
     "output_type": "stream",
     "text": [
      "enter the value of n- 2\n",
      "enter product name- momo\n",
      "enter price- 100\n",
      "enter quantity- 2\n",
      "enter product name- coke\n",
      "enter price- 25\n",
      "enter quantity- 2\n",
      "momo, 100, 2, 200\n",
      "coke, 25, 2, 50\n",
      "\n"
     ]
    }
   ],
   "source": [
    "#csv file\n",
    "\n",
    "s= str()\n",
    "n= int(input(\"enter the value of n- \"))\n",
    "b= open('bill.csv','a') \n",
    "\n",
    "for i in range(n):\n",
    "    product= input(\"enter product name- \")\n",
    "    price = int(input(\"enter price- \"))\n",
    "    quantity= int(input(\"enter quantity- \"))\n",
    "    total= price*quantity\n",
    "    s=s+ f\"{product}, {price}, {quantity}, {total}\\n\"\n",
    "print(s)\n",
    "\n",
    "b.write('product,price,quantity,total\\n')\n",
    "b.write(s)\n",
    "b.close()"
   ]
  },
  {
   "cell_type": "code",
   "execution_count": 28,
   "id": "bc31b7aa",
   "metadata": {},
   "outputs": [
    {
     "name": "stdout",
     "output_type": "stream",
     "text": [
      "product,price,quantity,total\n",
      "momo, 100, 2, 200\n",
      "coke, 25, 2, 50\n",
      "\n"
     ]
    }
   ],
   "source": [
    "with open('bill.csv','r') as file:\n",
    "    print(file.read())"
   ]
  },
  {
   "cell_type": "code",
   "execution_count": 34,
   "id": "373fa373",
   "metadata": {},
   "outputs": [
    {
     "data": {
      "text/html": [
       "<div>\n",
       "<style scoped>\n",
       "    .dataframe tbody tr th:only-of-type {\n",
       "        vertical-align: middle;\n",
       "    }\n",
       "\n",
       "    .dataframe tbody tr th {\n",
       "        vertical-align: top;\n",
       "    }\n",
       "\n",
       "    .dataframe thead th {\n",
       "        text-align: right;\n",
       "    }\n",
       "</style>\n",
       "<table border=\"1\" class=\"dataframe\">\n",
       "  <thead>\n",
       "    <tr style=\"text-align: right;\">\n",
       "      <th></th>\n",
       "      <th>product</th>\n",
       "      <th>price</th>\n",
       "      <th>quantity</th>\n",
       "      <th>total</th>\n",
       "    </tr>\n",
       "  </thead>\n",
       "  <tbody>\n",
       "    <tr>\n",
       "      <th>0</th>\n",
       "      <td>momo</td>\n",
       "      <td>100</td>\n",
       "      <td>2</td>\n",
       "      <td>200</td>\n",
       "    </tr>\n",
       "    <tr>\n",
       "      <th>1</th>\n",
       "      <td>coke</td>\n",
       "      <td>25</td>\n",
       "      <td>2</td>\n",
       "      <td>50</td>\n",
       "    </tr>\n",
       "  </tbody>\n",
       "</table>\n",
       "</div>"
      ],
      "text/plain": [
       "  product  price  quantity  total\n",
       "0    momo    100         2    200\n",
       "1    coke     25         2     50"
      ]
     },
     "execution_count": 34,
     "metadata": {},
     "output_type": "execute_result"
    }
   ],
   "source": [
    "import pandas as pd #package\n",
    "df= pd.read_csv('bill.csv') #dataframe- pandas datatype\n",
    "df"
   ]
  },
  {
   "cell_type": "code",
   "execution_count": 30,
   "id": "35f51455",
   "metadata": {},
   "outputs": [
    {
     "name": "stdout",
     "output_type": "stream",
     "text": [
      "<class 'pandas.core.frame.DataFrame'>\n"
     ]
    }
   ],
   "source": [
    "import pandas as pd #package\n",
    "df= pd.read_csv('bill.csv') #dataframe- pandas datatype\n",
    "print(type(df))"
   ]
  },
  {
   "cell_type": "code",
   "execution_count": 37,
   "id": "a287c85b",
   "metadata": {},
   "outputs": [
    {
     "data": {
      "text/html": [
       "<div>\n",
       "<style scoped>\n",
       "    .dataframe tbody tr th:only-of-type {\n",
       "        vertical-align: middle;\n",
       "    }\n",
       "\n",
       "    .dataframe tbody tr th {\n",
       "        vertical-align: top;\n",
       "    }\n",
       "\n",
       "    .dataframe thead th {\n",
       "        text-align: right;\n",
       "    }\n",
       "</style>\n",
       "<table border=\"1\" class=\"dataframe\">\n",
       "  <thead>\n",
       "    <tr style=\"text-align: right;\">\n",
       "      <th></th>\n",
       "      <th>sn</th>\n",
       "      <th>product</th>\n",
       "      <th>price</th>\n",
       "      <th>quantity</th>\n",
       "      <th>total</th>\n",
       "    </tr>\n",
       "  </thead>\n",
       "  <tbody>\n",
       "    <tr>\n",
       "      <th>0</th>\n",
       "      <td>1</td>\n",
       "      <td>momo</td>\n",
       "      <td>100</td>\n",
       "      <td>2</td>\n",
       "      <td>200</td>\n",
       "    </tr>\n",
       "    <tr>\n",
       "      <th>1</th>\n",
       "      <td>2</td>\n",
       "      <td>coke</td>\n",
       "      <td>25</td>\n",
       "      <td>2</td>\n",
       "      <td>50</td>\n",
       "    </tr>\n",
       "  </tbody>\n",
       "</table>\n",
       "</div>"
      ],
      "text/plain": [
       "   sn product  price  quantity  total\n",
       "0   1    momo    100         2    200\n",
       "1   2    coke     25         2     50"
      ]
     },
     "execution_count": 37,
     "metadata": {},
     "output_type": "execute_result"
    }
   ],
   "source": [
    "import pandas as pd #package\n",
    "df= pd.read_csv('bill.csv',nrows=2) \n",
    "df"
   ]
  },
  {
   "cell_type": "code",
   "execution_count": 38,
   "id": "bfffaf11",
   "metadata": {},
   "outputs": [
    {
     "data": {
      "text/html": [
       "<div>\n",
       "<style scoped>\n",
       "    .dataframe tbody tr th:only-of-type {\n",
       "        vertical-align: middle;\n",
       "    }\n",
       "\n",
       "    .dataframe tbody tr th {\n",
       "        vertical-align: top;\n",
       "    }\n",
       "\n",
       "    .dataframe thead th {\n",
       "        text-align: right;\n",
       "    }\n",
       "</style>\n",
       "<table border=\"1\" class=\"dataframe\">\n",
       "  <thead>\n",
       "    <tr style=\"text-align: right;\">\n",
       "      <th></th>\n",
       "      <th>product</th>\n",
       "      <th>price</th>\n",
       "      <th>quantity</th>\n",
       "      <th>total</th>\n",
       "    </tr>\n",
       "    <tr>\n",
       "      <th>sn</th>\n",
       "      <th></th>\n",
       "      <th></th>\n",
       "      <th></th>\n",
       "      <th></th>\n",
       "    </tr>\n",
       "  </thead>\n",
       "  <tbody>\n",
       "    <tr>\n",
       "      <th>1</th>\n",
       "      <td>momo</td>\n",
       "      <td>100</td>\n",
       "      <td>2</td>\n",
       "      <td>200</td>\n",
       "    </tr>\n",
       "    <tr>\n",
       "      <th>2</th>\n",
       "      <td>coke</td>\n",
       "      <td>25</td>\n",
       "      <td>2</td>\n",
       "      <td>50</td>\n",
       "    </tr>\n",
       "  </tbody>\n",
       "</table>\n",
       "</div>"
      ],
      "text/plain": [
       "   product  price  quantity  total\n",
       "sn                                \n",
       "1     momo    100         2    200\n",
       "2     coke     25         2     50"
      ]
     },
     "execution_count": 38,
     "metadata": {},
     "output_type": "execute_result"
    }
   ],
   "source": [
    "import pandas as pd #package\n",
    "df= pd.read_csv('bill.csv',nrows=2,index_col='sn') \n",
    "df"
   ]
  },
  {
   "cell_type": "code",
   "execution_count": null,
   "id": "9da3dcd6",
   "metadata": {},
   "outputs": [],
   "source": []
  }
 ],
 "metadata": {
  "kernelspec": {
   "display_name": "Python 3 (ipykernel)",
   "language": "python",
   "name": "python3"
  },
  "language_info": {
   "codemirror_mode": {
    "name": "ipython",
    "version": 3
   },
   "file_extension": ".py",
   "mimetype": "text/x-python",
   "name": "python",
   "nbconvert_exporter": "python",
   "pygments_lexer": "ipython3",
   "version": "3.9.7"
  }
 },
 "nbformat": 4,
 "nbformat_minor": 5
}
