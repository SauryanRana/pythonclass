{
 "cells": [
  {
   "cell_type": "code",
   "execution_count": 2,
   "id": "4415da7a",
   "metadata": {},
   "outputs": [
    {
     "data": {
      "text/plain": [
       "{'name': 'ram', 'age': 24, 'address': 'kathmandu'}"
      ]
     },
     "execution_count": 2,
     "metadata": {},
     "output_type": "execute_result"
    }
   ],
   "source": [
    "# dict inside list\n",
    "\n",
    "a= [{'name' : 'ram', 'age' : 24, 'address': 'kathmandu'},\n",
    "    {'name' : 'shyam', 'age' : 34, 'address': 'pkr'},\n",
    "    {'name' : 'akash', 'age' : 42, 'address': 'kathmandu'}]\n",
    "\n",
    "a[0]"
   ]
  },
  {
   "cell_type": "code",
   "execution_count": 2,
   "id": "ff48567b",
   "metadata": {},
   "outputs": [
    {
     "name": "stdout",
     "output_type": "stream",
     "text": [
      "enter the value of n- 2\n",
      "enter name- sfds\n",
      "enter age- 234\n",
      "enter address- cvag\n",
      "enter name- fdsa\n",
      "enter age- 23\n",
      "enter address- fdh\n",
      "[{'name': 'sfds', 'age': 234, 'address': 'cvag'}, {'name': 'fdsa', 'age': 23, 'address': 'fdh'}]\n"
     ]
    },
    {
     "data": {
      "text/plain": [
       "[{'name': 'ram prasad', 'age': 234, 'address': 'cvag'},\n",
       " {'name': 'fdsa', 'age': 23, 'address': 'fdh'}]"
      ]
     },
     "execution_count": 2,
     "metadata": {},
     "output_type": "execute_result"
    }
   ],
   "source": [
    "info= list()\n",
    "\n",
    "n= int(input('enter the value of n- '))\n",
    "\n",
    "for i in range(n):\n",
    "    name= input(\"enter name- \")\n",
    "    age= int(input(\"enter age- \"))\n",
    "    address= input(\"enter address- \")\n",
    "    data= {'name' : name, 'age' : age, 'address': address}\n",
    "    info.append(data)\n",
    "    \n",
    "print(info)\n",
    "info[0]['name']= 'ram prasad'\n",
    "\n",
    "info"
   ]
  },
  {
   "cell_type": "code",
   "execution_count": 5,
   "id": "88510f91",
   "metadata": {},
   "outputs": [
    {
     "data": {
      "text/plain": [
       "{1: {'name': 'ram', 'age': 34, 'address': 'ktm'},\n",
       " 2: {'name': 'shyam', 'age': 24, 'address': 'pkr'},\n",
       " 3: {'name': 'hari', 'age': 44, 'address': 'chitwan'},\n",
       " 4: {'name': 'sita', 'age': 19, 'address': 'butwal'}}"
      ]
     },
     "execution_count": 5,
     "metadata": {},
     "output_type": "execute_result"
    }
   ],
   "source": [
    "#dict inside dict\n",
    "\n",
    "a= {1:{'name' : 'ram', 'age':34, 'address': 'ktm'},\n",
    "    2:{'name' : 'shyam', 'age': 24, 'address': 'pkr'},\n",
    "    3:{'name' : 'hari', 'age': 44, 'address': 'chitwan'}}\n",
    "\n",
    "a[4]= {'name' : 'sita', 'age': 19, 'address': 'butwal'}\n",
    "       \n",
    "a\n",
    "   "
   ]
  },
  {
   "cell_type": "code",
   "execution_count": 25,
   "id": "06c3709f",
   "metadata": {},
   "outputs": [
    {
     "ename": "KeyError",
     "evalue": "1",
     "output_type": "error",
     "traceback": [
      "\u001b[1;31m---------------------------------------------------------------------------\u001b[0m",
      "\u001b[1;31mKeyError\u001b[0m                                  Traceback (most recent call last)",
      "\u001b[1;32m~\\AppData\\Local\\Temp/ipykernel_16620/1264515179.py\u001b[0m in \u001b[0;36m<module>\u001b[1;34m\u001b[0m\n\u001b[1;32m----> 1\u001b[1;33m \u001b[0ma\u001b[0m\u001b[1;33m[\u001b[0m\u001b[1;36m1\u001b[0m\u001b[1;33m]\u001b[0m\u001b[1;33m[\u001b[0m\u001b[1;34m'phone'\u001b[0m\u001b[1;33m]\u001b[0m\u001b[1;33m=\u001b[0m \u001b[1;36m940324\u001b[0m\u001b[1;33m\u001b[0m\u001b[1;33m\u001b[0m\u001b[0m\n\u001b[0m",
      "\u001b[1;31mKeyError\u001b[0m: 1"
     ]
    }
   ],
   "source": [
    "a[1]['phone']= 940324\n"
   ]
  },
  {
   "cell_type": "code",
   "execution_count": 30,
   "id": "c6e96742",
   "metadata": {},
   "outputs": [
    {
     "name": "stdout",
     "output_type": "stream",
     "text": [
      "enter the value of n- 2\n",
      "enter name: sauryan\n",
      "enter age: 23\n",
      "enter address: ktm\n",
      "enter name: hari\n",
      "enter age: 43\n",
      "enter address: pkr\n",
      "{1: {'name': 'sauryan', 'age': 23, 'address': 'ktm'}, 2: {'name': 'hari', 'age': 43, 'address': 'pkr'}}\n"
     ]
    }
   ],
   "source": [
    "#write a program to create dict inside dict\n",
    "\n",
    "n= int(input(\"enter the value of n- \"))\n",
    "info =dict()\n",
    "\n",
    "\n",
    "for i in range(1,n+1):\n",
    "    name= input(\"enter name: \")\n",
    "    age= int(input('enter age: '))\n",
    "    address= input(\"enter address: \")\n",
    "    \n",
    "    data= {'name' : name, 'age' :age, 'address': address}\n",
    "    info[i]= data\n",
    "    \n",
    "print(info)\n",
    "\n",
    "    "
   ]
  },
  {
   "cell_type": "code",
   "execution_count": null,
   "id": "8b4667f9",
   "metadata": {},
   "outputs": [],
   "source": []
  },
  {
   "cell_type": "code",
   "execution_count": null,
   "id": "c64ab2c4",
   "metadata": {},
   "outputs": [],
   "source": []
  }
 ],
 "metadata": {
  "kernelspec": {
   "display_name": "Python 3 (ipykernel)",
   "language": "python",
   "name": "python3"
  },
  "language_info": {
   "codemirror_mode": {
    "name": "ipython",
    "version": 3
   },
   "file_extension": ".py",
   "mimetype": "text/x-python",
   "name": "python",
   "nbconvert_exporter": "python",
   "pygments_lexer": "ipython3",
   "version": "3.9.7"
  }
 },
 "nbformat": 4,
 "nbformat_minor": 5
}
