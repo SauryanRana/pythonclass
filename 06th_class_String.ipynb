{
 "cells": [
  {
   "cell_type": "code",
   "execution_count": 1,
   "id": "b6b6f0af",
   "metadata": {},
   "outputs": [
    {
     "name": "stdout",
     "output_type": "stream",
     "text": [
      "hello world\n",
      "<class 'str'>\n"
     ]
    }
   ],
   "source": [
    "#string is immutable type\n",
    "\n",
    "a= \"hello world\"\n",
    "print(a)\n",
    "print(type(a))"
   ]
  },
  {
   "cell_type": "code",
   "execution_count": 2,
   "id": "e7eb5e4d",
   "metadata": {},
   "outputs": [
    {
     "name": "stdout",
     "output_type": "stream",
     "text": [
      "helloWorld\n"
     ]
    }
   ],
   "source": [
    "a=\"hello\"\n",
    "b= \"World\"\n",
    "c=a+b\n",
    "print(c)"
   ]
  },
  {
   "cell_type": "code",
   "execution_count": 3,
   "id": "2d04f4d1",
   "metadata": {},
   "outputs": [
    {
     "name": "stdout",
     "output_type": "stream",
     "text": [
      "hello world\n",
      "hello world\n",
      "\n"
     ]
    }
   ],
   "source": [
    "a= \"hello world\\n\"\n",
    "print(a*2)"
   ]
  },
  {
   "cell_type": "code",
   "execution_count": 14,
   "id": "f01b54c4",
   "metadata": {},
   "outputs": [
    {
     "name": "stdout",
     "output_type": "stream",
     "text": [
      "e\n",
      "hello\n",
      "hlo\n",
      "11\n"
     ]
    }
   ],
   "source": [
    "a= \"hello world\"\n",
    "print(a[1])\n",
    "print(a[0:5])\n",
    "print(a[0:5:2])\n",
    "l= len(a)\n",
    "print(l)"
   ]
  },
  {
   "cell_type": "code",
   "execution_count": 24,
   "id": "e9562093",
   "metadata": {},
   "outputs": [
    {
     "name": "stdout",
     "output_type": "stream",
     "text": [
      "dlrow olleh\n"
     ]
    }
   ],
   "source": [
    "a= \"hello world\"\n",
    "l= len(a)\n",
    "print(a[11::-1])"
   ]
  },
  {
   "cell_type": "code",
   "execution_count": 25,
   "id": "cf26d8be",
   "metadata": {},
   "outputs": [
    {
     "name": "stdout",
     "output_type": "stream",
     "text": [
      "ram20kathmandu\n"
     ]
    }
   ],
   "source": [
    "name = \"ram\"\n",
    "age= 20\n",
    "add = \"kathmandu\"\n",
    "\n",
    "info= name + str(age) + add\n",
    "\n",
    "print(info)\n"
   ]
  },
  {
   "cell_type": "code",
   "execution_count": 27,
   "id": "dbd01533",
   "metadata": {},
   "outputs": [
    {
     "name": "stdout",
     "output_type": "stream",
     "text": [
      "hello i am ram. i am 20. i am from kathmandu\n"
     ]
    }
   ],
   "source": [
    "#string formatting\n",
    "\n",
    "name = \"ram\"\n",
    "age= 20\n",
    "add = \"kathmandu\"\n",
    "\n",
    "info= f\"hello i am {name}. i am {age}. i am from {add}\" #no space between f and \"\n",
    "\n",
    "print(info)\n"
   ]
  },
  {
   "cell_type": "code",
   "execution_count": 6,
   "id": "e952e8c6",
   "metadata": {},
   "outputs": [
    {
     "name": "stdout",
     "output_type": "stream",
     "text": [
      "enter the value of n- 2\n",
      "enter product name- brush\n",
      "enter price- 25\n",
      "enter quantity- 1\n",
      "enter product name- soap\n",
      "enter price- 40\n",
      "enter quantity- 2\n",
      "brush 25 1 25\n",
      "soap 40 2 80\n",
      "\n"
     ]
    }
   ],
   "source": [
    "s= str()\n",
    "n= int(input(\"enter the value of n- \"))\n",
    "\n",
    "for i in range(n):\n",
    "    product= input(\"enter product name- \")\n",
    "    price = int(input(\"enter price- \"))\n",
    "    quantity= int(input(\"enter quantity- \"))\n",
    "    total= price*quantity\n",
    "    s=s+ f\"{product} {price} {quantity} {total}\\n\"\n",
    "print(s)"
   ]
  },
  {
   "cell_type": "code",
   "execution_count": 10,
   "id": "1e9b5507",
   "metadata": {},
   "outputs": [
    {
     "name": "stdout",
     "output_type": "stream",
     "text": [
      "yes\n",
      "2\n"
     ]
    }
   ],
   "source": [
    "#search\n",
    "\n",
    "a= \"Ram Shyam Hari Sita Ram Shyam sita\"\n",
    "if \"Ram\" in a:\n",
    "    print(\"yes\")\n",
    "    print(a.count(\"Ram\"))"
   ]
  },
  {
   "cell_type": "code",
   "execution_count": 16,
   "id": "04c2ebe4",
   "metadata": {},
   "outputs": [
    {
     "name": "stdout",
     "output_type": "stream",
     "text": [
      "enter name- fseadg\n",
      "not found\n"
     ]
    }
   ],
   "source": [
    "#search\n",
    "name= input(\"enter name- \").lower() #removing the case sensitive\n",
    "a=\"Ram Shyam Hari Sita Ram Shyam sita\" . lower()\n",
    "if name in a:\n",
    "    print(\"yes\")\n",
    "    print(a.count(name))\n",
    "else:\n",
    "    print(\"not found\")\n",
    "    "
   ]
  },
  {
   "cell_type": "code",
   "execution_count": 14,
   "id": "483367c2",
   "metadata": {},
   "outputs": [
    {
     "name": "stdout",
     "output_type": "stream",
     "text": [
      "HELLO WORLD\n",
      "hello world\n"
     ]
    }
   ],
   "source": [
    "#case sensitive ( upper case/lower case)\n",
    "a=\"hello world\"\n",
    "print(a.upper())\n",
    "print(a.lower())\n"
   ]
  },
  {
   "cell_type": "code",
   "execution_count": 17,
   "id": "fb28dab3",
   "metadata": {},
   "outputs": [
    {
     "name": "stdout",
     "output_type": "stream",
     "text": [
      "Hello World\n"
     ]
    }
   ],
   "source": [
    "a=\"hello world\"\n",
    "print(a.title()) #change the starting character to upper case"
   ]
  },
  {
   "cell_type": "code",
   "execution_count": null,
   "id": "9ab4925f",
   "metadata": {},
   "outputs": [],
   "source": [
    "#pre-defined functions \n",
    "#isupper() islower() isalpha()"
   ]
  },
  {
   "cell_type": "code",
   "execution_count": 21,
   "id": "92c79849",
   "metadata": {},
   "outputs": [
    {
     "name": "stdout",
     "output_type": "stream",
     "text": [
      "Rama Shyam Hari Sita Rama Shyam sita\n",
      "Ram Shyam Hari Sita Ram Shyam sita\n"
     ]
    }
   ],
   "source": [
    "a=\"Ram Shyam Hari Sita Ram Shyam sita\"\n",
    "print(a.replace(\"Ram\", \"Rama\"))\n",
    "print(a) #no changes in the original data type"
   ]
  },
  {
   "cell_type": "code",
   "execution_count": 24,
   "id": "83d44d22",
   "metadata": {},
   "outputs": [
    {
     "name": "stdout",
     "output_type": "stream",
     "text": [
      "Rama Shyam Hari Sita Rama Shyam sita\n"
     ]
    }
   ],
   "source": [
    "\n",
    "a=\"Ram Shyam Hari Sita Ram Shyam sita\"\n",
    "a=a.replace(\"Ram\", \"Rama\")\n",
    "print(a)"
   ]
  },
  {
   "cell_type": "code",
   "execution_count": 26,
   "id": "07ff1efd",
   "metadata": {},
   "outputs": [
    {
     "name": "stdout",
     "output_type": "stream",
     "text": [
      " Shyam Hari Sita  Shyam sita\n"
     ]
    }
   ],
   "source": [
    "#to remove ram, we keep the replace string empty\n",
    "\n",
    "a=\"Ram Shyam Hari Sita Ram Shyam sita\"\n",
    "print(a.replace(\"Ram\", \"\"))"
   ]
  },
  {
   "cell_type": "code",
   "execution_count": null,
   "id": "3f861994",
   "metadata": {},
   "outputs": [],
   "source": []
  }
 ],
 "metadata": {
  "kernelspec": {
   "display_name": "Python 3 (ipykernel)",
   "language": "python",
   "name": "python3"
  },
  "language_info": {
   "codemirror_mode": {
    "name": "ipython",
    "version": 3
   },
   "file_extension": ".py",
   "mimetype": "text/x-python",
   "name": "python",
   "nbconvert_exporter": "python",
   "pygments_lexer": "ipython3",
   "version": "3.9.7"
  }
 },
 "nbformat": 4,
 "nbformat_minor": 5
}
