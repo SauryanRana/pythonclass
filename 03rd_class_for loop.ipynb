{
 "cells": [
  {
   "cell_type": "code",
   "execution_count": null,
   "id": "bd5ada2d",
   "metadata": {},
   "outputs": [],
   "source": [
    "# for loop\n",
    "# while loop"
   ]
  },
  {
   "cell_type": "code",
   "execution_count": null,
   "id": "8c718660",
   "metadata": {},
   "outputs": [],
   "source": [
    "#for loop\n",
    "# range(5) 0,1,2,3,4,\n",
    "# range(1,5) 1,2,3,4\n",
    "# range(1,5,2) 1,3"
   ]
  },
  {
   "cell_type": "code",
   "execution_count": 1,
   "id": "1da59537",
   "metadata": {},
   "outputs": [
    {
     "name": "stdout",
     "output_type": "stream",
     "text": [
      "0\n",
      "1\n",
      "2\n",
      "3\n",
      "4\n"
     ]
    }
   ],
   "source": [
    "#syntax\n",
    "for i in range(5):\n",
    "    print(i)"
   ]
  },
  {
   "cell_type": "code",
   "execution_count": 4,
   "id": "df74d0c7",
   "metadata": {},
   "outputs": [
    {
     "name": "stdout",
     "output_type": "stream",
     "text": [
      "0 hello world\n",
      "1 hello world\n",
      "2 hello world\n",
      "3 hello world\n",
      "4 hello world\n"
     ]
    }
   ],
   "source": [
    "for i in range(5):\n",
    "    print(i,\"hello world\")"
   ]
  },
  {
   "cell_type": "code",
   "execution_count": 5,
   "id": "cb6b9135",
   "metadata": {},
   "outputs": [
    {
     "name": "stdout",
     "output_type": "stream",
     "text": [
      "1 hello world\n",
      "2 hello world\n",
      "3 hello world\n",
      "4 hello world\n"
     ]
    }
   ],
   "source": [
    "for i in range(1,5):\n",
    "    print(i,\"hello world\")"
   ]
  },
  {
   "cell_type": "code",
   "execution_count": 6,
   "id": "005f190b",
   "metadata": {},
   "outputs": [
    {
     "name": "stdout",
     "output_type": "stream",
     "text": [
      "1 hello world\n",
      "3 hello world\n"
     ]
    }
   ],
   "source": [
    "for i in range(1,5,2):\n",
    "    print(i,\"hello world\")"
   ]
  },
  {
   "cell_type": "code",
   "execution_count": 7,
   "id": "50d6c728",
   "metadata": {},
   "outputs": [
    {
     "name": "stdout",
     "output_type": "stream",
     "text": [
      "2\n",
      "4\n",
      "6\n",
      "8\n",
      "10\n",
      "12\n",
      "14\n",
      "16\n",
      "18\n",
      "20\n"
     ]
    }
   ],
   "source": [
    "for i in range(1,11):\n",
    "    print(2*i)"
   ]
  },
  {
   "cell_type": "code",
   "execution_count": 11,
   "id": "d2cb0b5d",
   "metadata": {},
   "outputs": [
    {
     "name": "stdout",
     "output_type": "stream",
     "text": [
      "enter x= 4\n",
      "4\n",
      "8\n",
      "12\n",
      "16\n",
      "20\n",
      "24\n",
      "28\n",
      "32\n",
      "36\n",
      "40\n"
     ]
    }
   ],
   "source": [
    "x= int(input(\"enter x= \"))\n",
    "\n",
    "for i in range(1,11):\n",
    "    print(x*i)"
   ]
  },
  {
   "cell_type": "code",
   "execution_count": 12,
   "id": "0f70f275",
   "metadata": {},
   "outputs": [
    {
     "name": "stdout",
     "output_type": "stream",
     "text": [
      "enter x= 5\n",
      "5 * 1 = 5\n",
      "5 * 2 = 10\n",
      "5 * 3 = 15\n",
      "5 * 4 = 20\n",
      "5 * 5 = 25\n",
      "5 * 6 = 30\n",
      "5 * 7 = 35\n",
      "5 * 8 = 40\n",
      "5 * 9 = 45\n",
      "5 * 10 = 50\n"
     ]
    }
   ],
   "source": [
    "x= int(input(\"enter x= \"))\n",
    "\n",
    "for i in range(1,11):\n",
    "    print(x,\"*\",i, \"=\", x*i)"
   ]
  },
  {
   "cell_type": "code",
   "execution_count": 13,
   "id": "de5bd545",
   "metadata": {},
   "outputs": [
    {
     "name": "stdout",
     "output_type": "stream",
     "text": [
      "enter n= ram\n",
      "ram\n",
      "enter n= sauryan\n",
      "sauryan\n"
     ]
    }
   ],
   "source": [
    "for i in range(2):\n",
    "    x= input(\"enter n= \")\n",
    "    print(x)"
   ]
  },
  {
   "cell_type": "code",
   "execution_count": 1,
   "id": "f3886021",
   "metadata": {},
   "outputs": [
    {
     "name": "stdout",
     "output_type": "stream",
     "text": [
      "enter n= 2\n",
      "enter namesauryan\n",
      "sauryan\n",
      "enter namerana\n",
      "rana\n"
     ]
    }
   ],
   "source": [
    "n=int(input(\"enter n= \"))\n",
    "\n",
    "for i in range(n):\n",
    "    x= input (\"enter name\")\n",
    "    print(x)"
   ]
  },
  {
   "cell_type": "code",
   "execution_count": 21,
   "id": "40e5e4bd",
   "metadata": {},
   "outputs": [
    {
     "name": "stdout",
     "output_type": "stream",
     "text": [
      "enter n= 3\n",
      "enter x= 4\n",
      "sum is  4\n",
      "enter x= 5\n",
      "sum is  9\n",
      "enter x= 6\n",
      "sum is  15\n"
     ]
    }
   ],
   "source": [
    "s=0\n",
    "n=int(input(\"enter n= \"))\n",
    "\n",
    "for i in range(n):\n",
    "    x= int(input (\"enter x= \"))\n",
    "    s=s+x\n",
    "\n",
    "    print(\"sum is \", s)"
   ]
  },
  {
   "cell_type": "markdown",
   "id": "5355c676",
   "metadata": {},
   "source": []
  },
  {
   "cell_type": "code",
   "execution_count": 22,
   "id": "97cbf859",
   "metadata": {},
   "outputs": [
    {
     "name": "stdout",
     "output_type": "stream",
     "text": [
      "enter n= 3\n",
      "enter x= 4\n",
      "enter x= 5\n",
      "enter x= 6\n",
      "sum is  15\n"
     ]
    }
   ],
   "source": [
    "s=0\n",
    "n=int(input(\"enter n= \"))\n",
    "\n",
    "for i in range(n):\n",
    "    x= int(input (\"enter x= \"))\n",
    "    s=s+x\n",
    "\n",
    "print(\"sum is \", s)"
   ]
  },
  {
   "cell_type": "code",
   "execution_count": 26,
   "id": "a432237d",
   "metadata": {
    "scrolled": true
   },
   "outputs": [
    {
     "name": "stdout",
     "output_type": "stream",
     "text": [
      "enter n= 2\n",
      "enter x= apple \n",
      "enter x= ball\n",
      "sum is  apple ball\n"
     ]
    }
   ],
   "source": [
    "s=str()\n",
    "n=int(input(\"enter n= \"))\n",
    "\n",
    "for i in range(n):\n",
    "    x= input (\"enter x= \")\n",
    "    s=s+\"\"+x\n",
    "s\n",
    "print(\"sum is \", s)"
   ]
  },
  {
   "cell_type": "code",
   "execution_count": 31,
   "id": "72433553",
   "metadata": {},
   "outputs": [
    {
     "name": "stdout",
     "output_type": "stream",
     "text": [
      "enter n= 2\n",
      "enter name= ram\n",
      "enter phone923421\n",
      "enter name= hari\n",
      "enter phone98942\n",
      "ram--923421\n",
      "hari--98942\n",
      "\n"
     ]
    }
   ],
   "source": [
    "s=str()\n",
    "n=int(input(\"enter n= \"))\n",
    "\n",
    "for i in range(n):\n",
    "    name= input (\"enter name= \")\n",
    "    phone= input(\"enter phone\")\n",
    "    s=s+name+\"--\"+phone+\"\\n\"\n",
    "\n",
    "print(s)"
   ]
  },
  {
   "cell_type": "code",
   "execution_count": 5,
   "id": "7c9add5f",
   "metadata": {},
   "outputs": [
    {
     "name": "stdout",
     "output_type": "stream",
     "text": [
      "enter n= 4\n",
      "1\n",
      "2\n",
      "6\n",
      "24\n"
     ]
    }
   ],
   "source": [
    "#factorial\n",
    "#4!=1*2*3*4\n",
    "\n",
    "n= int(input(\"enter n= \"))\n",
    "fac = 1\n",
    "for i in range(1,n+1):\n",
    "    fac= fac*i\n",
    "    print(fac)"
   ]
  },
  {
   "cell_type": "code",
   "execution_count": null,
   "id": "2f4535e2",
   "metadata": {},
   "outputs": [],
   "source": [
    "## control statement\n",
    "# break\n",
    "# continue (skip)\n",
    "# pass\n"
   ]
  },
  {
   "cell_type": "code",
   "execution_count": 39,
   "id": "db807060",
   "metadata": {
    "scrolled": true
   },
   "outputs": [
    {
     "name": "stdout",
     "output_type": "stream",
     "text": [
      "h\n",
      "e\n",
      "l\n",
      "l\n",
      "o\n",
      " \n",
      "w\n",
      "o\n",
      "r\n",
      "l\n",
      "d\n"
     ]
    }
   ],
   "source": [
    "#we do not use range in string function\n",
    "\n",
    "a=\"hello world\"\n",
    "\n",
    "for i in a:\n",
    "    print(i)"
   ]
  },
  {
   "cell_type": "code",
   "execution_count": 40,
   "id": "5653c76f",
   "metadata": {},
   "outputs": [
    {
     "name": "stdout",
     "output_type": "stream",
     "text": [
      "h.e.l.l.o. .w.o.r.l.d."
     ]
    }
   ],
   "source": [
    "a=\"hello world\"\n",
    "\n",
    "for i in a:\n",
    "    print(i,end=\".\")"
   ]
  },
  {
   "cell_type": "code",
   "execution_count": 2,
   "id": "05ca8216",
   "metadata": {},
   "outputs": [
    {
     "name": "stdout",
     "output_type": "stream",
     "text": [
      "H\n",
      "e\n",
      "l\n",
      "l\n",
      "o\n",
      "W\n",
      "o\n",
      "r\n",
      "l\n",
      "d\n",
      ",\n",
      "I\n",
      "a\n",
      "m\n",
      "P\n",
      "y\n",
      "t\n",
      "h\n",
      "o\n",
      "n\n"
     ]
    }
   ],
   "source": [
    "a=\"Hello World, I am Python\"\n",
    "\n",
    "for i in a:\n",
    "    if i !=\" \":\n",
    "        print(i,end=\"\")"
   ]
  },
  {
   "cell_type": "code",
   "execution_count": 51,
   "id": "2ae617bb",
   "metadata": {},
   "outputs": [
    {
     "name": "stdout",
     "output_type": "stream",
     "text": [
      "0\n",
      "1\n",
      "2\n",
      "3\n",
      "4\n"
     ]
    }
   ],
   "source": [
    "for i in range(10):\n",
    "    if i == 5:\n",
    "        break\n",
    "    print(i)"
   ]
  },
  {
   "cell_type": "code",
   "execution_count": 52,
   "id": "e27dc633",
   "metadata": {},
   "outputs": [
    {
     "name": "stdout",
     "output_type": "stream",
     "text": [
      "0\n",
      "1\n",
      "2\n",
      "3\n",
      "4\n",
      "6\n",
      "7\n",
      "8\n",
      "9\n"
     ]
    }
   ],
   "source": [
    "for i in range(10):\n",
    "    if i == 5:\n",
    "        continue\n",
    "    print(i)"
   ]
  },
  {
   "cell_type": "code",
   "execution_count": 1,
   "id": "f748252a",
   "metadata": {},
   "outputs": [
    {
     "name": "stdout",
     "output_type": "stream",
     "text": [
      "5\n",
      "10\n",
      "15\n",
      "20\n",
      "25\n",
      "30\n",
      "35\n",
      "40\n",
      "45\n",
      "50\n"
     ]
    }
   ],
   "source": [
    "for i in range(1,51):\n",
    "    if i%5!=0:\n",
    "        continue\n",
    "\n",
    "    print(i)\n",
    "      "
   ]
  },
  {
   "cell_type": "code",
   "execution_count": 6,
   "id": "b48e7b4b",
   "metadata": {},
   "outputs": [],
   "source": [
    "#if I don't want to run an operation, use pass\n",
    "\n",
    "a=10\n",
    "b=20\n",
    "\n",
    "if a<b:\n",
    "    pass #(executes non-operational)"
   ]
  },
  {
   "cell_type": "code",
   "execution_count": null,
   "id": "7397a5b3",
   "metadata": {},
   "outputs": [],
   "source": []
  }
 ],
 "metadata": {
  "kernelspec": {
   "display_name": "Python 3 (ipykernel)",
   "language": "python",
   "name": "python3"
  },
  "language_info": {
   "codemirror_mode": {
    "name": "ipython",
    "version": 3
   },
   "file_extension": ".py",
   "mimetype": "text/x-python",
   "name": "python",
   "nbconvert_exporter": "python",
   "pygments_lexer": "ipython3",
   "version": "3.9.7"
  }
 },
 "nbformat": 4,
 "nbformat_minor": 5
}
