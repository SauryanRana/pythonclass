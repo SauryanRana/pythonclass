{
 "cells": [
  {
   "cell_type": "code",
   "execution_count": null,
   "id": "971f6b13",
   "metadata": {},
   "outputs": [],
   "source": [
    "#python collection\n",
    "# list\n",
    "# tuples\n",
    "# dictionary\n",
    "# sets"
   ]
  },
  {
   "cell_type": "code",
   "execution_count": null,
   "id": "6ddfc895",
   "metadata": {},
   "outputs": [],
   "source": [
    "#List\n",
    "# -Indexed\n",
    "# -ordered\n",
    "# -multiple and duplicate values\n",
    "# -mutable"
   ]
  },
  {
   "cell_type": "code",
   "execution_count": 1,
   "id": "2fbf0c08",
   "metadata": {},
   "outputs": [
    {
     "name": "stdout",
     "output_type": "stream",
     "text": [
      "<class 'list'>\n"
     ]
    }
   ],
   "source": [
    "a= list()\n",
    "l = [\"Apple\", \"ball\"]\n",
    "print(type(l))"
   ]
  },
  {
   "cell_type": "code",
   "execution_count": 7,
   "id": "947a2471",
   "metadata": {},
   "outputs": [
    {
     "name": "stdout",
     "output_type": "stream",
     "text": [
      "Apple\n",
      "fish\n",
      "['Apple', 'ball', 'cat', 'dog', 'fish']\n",
      "['Apple', 'cat', 'fish']\n"
     ]
    }
   ],
   "source": [
    "#indexed\n",
    "\n",
    "l = [\"Apple\", \"ball\", \"cat\", \"dog\",\"fish\"]\n",
    "print(l[0])\n",
    "print(l[-1])\n",
    "print(l[0:5])\n",
    "print(l[0:6:2])"
   ]
  },
  {
   "cell_type": "code",
   "execution_count": 8,
   "id": "2ac99bf7",
   "metadata": {},
   "outputs": [
    {
     "name": "stdout",
     "output_type": "stream",
     "text": [
      "['Apple', 'ball', 'cat', 'dog', 'fish', 'zebra']\n"
     ]
    }
   ],
   "source": [
    "#ordered\n",
    "l = [\"Apple\", \"ball\", \"cat\", \"dog\",\"fish\"]\n",
    "k=[\"zebra\"]\n",
    "\n",
    "print(l+k)"
   ]
  },
  {
   "cell_type": "code",
   "execution_count": 9,
   "id": "ebed3662",
   "metadata": {},
   "outputs": [
    {
     "name": "stdout",
     "output_type": "stream",
     "text": [
      "['Apple', 'ball', 'cat', 'dog', 'fish', 'apple']\n"
     ]
    }
   ],
   "source": [
    "#multiple and duplicate values\n",
    "\n",
    "l = [\"Apple\", \"ball\", \"cat\", \"dog\",\"fish\",\"apple\"]\n",
    "print(l)"
   ]
  },
  {
   "cell_type": "code",
   "execution_count": 10,
   "id": "d6c8f923",
   "metadata": {},
   "outputs": [
    {
     "name": "stdout",
     "output_type": "stream",
     "text": [
      "['ant', 'ball', 'cat', 'dog', 'fish']\n"
     ]
    }
   ],
   "source": [
    "#mutable\n",
    "\n",
    "l = [\"Apple\", \"ball\", \"cat\", \"dog\",\"fish\"]\n",
    "l[0]= \"ant\"\n",
    "print(l)"
   ]
  },
  {
   "cell_type": "markdown",
   "id": "5a79b2b9",
   "metadata": {},
   "source": [
    "#creating list\n",
    "\n",
    "names=list()\n",
    "n= int(input(\"enter n- \"))\n",
    "for i in range(n):\n",
    "    x=input(\"enter name- \")\n",
    "    names= names+[x]\n",
    "print(names)\n",
    "    "
   ]
  },
  {
   "cell_type": "code",
   "execution_count": 24,
   "id": "b1ad580c",
   "metadata": {
    "scrolled": true
   },
   "outputs": [
    {
     "name": "stdout",
     "output_type": "stream",
     "text": [
      "enter n- 3\n",
      "enter x- 34\n",
      "enter x- 23\n",
      "enter x- 33\n",
      "[34, 23, 33]\n",
      "sum of list=  90\n",
      "max value of list=  34\n",
      "min value of list 23\n"
     ]
    }
   ],
   "source": [
    "\n",
    "y=list()\n",
    "n= int(input(\"enter n- \"))\n",
    "for i in range(n):\n",
    "    x=int(input(\"enter x- \"))\n",
    "    y= y+[x]\n",
    "    \n",
    "print(y)\n",
    "print(\"sum of list= \", sum(y))\n",
    "print(\"max value of list= \", max(y))\n",
    "print(\"min value of list\",min(y))"
   ]
  },
  {
   "cell_type": "code",
   "execution_count": 18,
   "id": "2ebeca5a",
   "metadata": {},
   "outputs": [
    {
     "name": "stdout",
     "output_type": "stream",
     "text": [
      "['14', '21', '23', '35', '54']\n"
     ]
    }
   ],
   "source": [
    "#ascending and descending order\n",
    "\n",
    "y.sort()\n",
    "print(y)\n",
    "y.reverse()\n",
    "print(y)"
   ]
  },
  {
   "cell_type": "code",
   "execution_count": 27,
   "id": "a8bd5bba",
   "metadata": {},
   "outputs": [
    {
     "name": "stdout",
     "output_type": "stream",
     "text": [
      "enter n- 3\n",
      "enter x- apple\n",
      "enter x- ball\n",
      "enter x- Rat\n",
      "['apple', 'ball', 'Rat']\n",
      "['Rat', 'apple', 'ball']\n"
     ]
    }
   ],
   "source": [
    "y=list()\n",
    "n= int(input(\"enter n- \"))\n",
    "for i in range(n):\n",
    "    x=input(\"enter x- \")\n",
    "    y= y+[x]\n",
    "print(y)\n",
    "y.sort()\n",
    "print(y)"
   ]
  },
  {
   "cell_type": "code",
   "execution_count": 28,
   "id": "bc295580",
   "metadata": {},
   "outputs": [],
   "source": [
    "#funtions in list\n",
    "# append\n",
    "# insert\n",
    "# extend"
   ]
  },
  {
   "cell_type": "code",
   "execution_count": 35,
   "id": "f86430ab",
   "metadata": {},
   "outputs": [
    {
     "name": "stdout",
     "output_type": "stream",
     "text": [
      "['Apple', 'ball', 'cat', 'dog', 'fish', 'elephant']\n"
     ]
    }
   ],
   "source": [
    "l = [\"Apple\", \"ball\", \"cat\", \"dog\",\"fish\"]\n",
    "l.append(\"elephant\")\n",
    "print(l)"
   ]
  },
  {
   "cell_type": "code",
   "execution_count": 32,
   "id": "a6edb3ba",
   "metadata": {},
   "outputs": [
    {
     "name": "stdout",
     "output_type": "stream",
     "text": [
      "enter n- 3\n",
      "enter name- sauryan\n",
      "enter name- ram\n",
      "enter name- har\n",
      "['sauryan', 'ram', 'har']\n"
     ]
    }
   ],
   "source": [
    "names=list()\n",
    "n= int(input(\"enter n- \"))\n",
    "for i in range(n):\n",
    "    x=input(\"enter name- \")\n",
    "    names.append(x)\n",
    "print(names)"
   ]
  },
  {
   "cell_type": "code",
   "execution_count": 37,
   "id": "a10d8935",
   "metadata": {},
   "outputs": [
    {
     "name": "stdout",
     "output_type": "stream",
     "text": [
      "['Apple', 'Ball', 'ball', 'cat', 'dog', 'fish']\n"
     ]
    }
   ],
   "source": [
    "l = [\"Apple\", \"ball\", \"cat\", \"dog\",\"fish\"]\n",
    "l.insert(1,\"Ball\")\n",
    "print(l)"
   ]
  },
  {
   "cell_type": "code",
   "execution_count": 38,
   "id": "4855fc02",
   "metadata": {},
   "outputs": [
    {
     "name": "stdout",
     "output_type": "stream",
     "text": [
      "['Apple', 'ball', 'cat', 'dog', 'fish', 1, 2, 3, 4]\n"
     ]
    }
   ],
   "source": [
    "x = [\"Apple\", \"ball\", \"cat\", \"dog\",\"fish\"]\n",
    "y= [1,2,3,4]\n",
    "\n",
    "x.extend(y)\n",
    "print(x)"
   ]
  },
  {
   "cell_type": "code",
   "execution_count": 4,
   "id": "e9a1a254",
   "metadata": {},
   "outputs": [
    {
     "name": "stdout",
     "output_type": "stream",
     "text": [
      "Apple\n",
      "ball\n",
      "cat\n",
      "dog\n",
      "fish\n"
     ]
    }
   ],
   "source": [
    "x = [\"Apple\", \"ball\", \"cat\", \"dog\",\"fish\"]\n",
    "for i in x:\n",
    "    print(i)"
   ]
  },
  {
   "cell_type": "code",
   "execution_count": 42,
   "id": "964f53ef",
   "metadata": {},
   "outputs": [
    {
     "name": "stdout",
     "output_type": "stream",
     "text": [
      "Apple\n",
      "ball\n"
     ]
    }
   ],
   "source": [
    "x = [\"Apple\", \"ball\", \"cat\", \"dog\",\"fish\"]\n",
    "for i in x:\n",
    "    if i == \"cat\":\n",
    "        break\n",
    "    print(i)"
   ]
  },
  {
   "cell_type": "code",
   "execution_count": 44,
   "id": "82e1469d",
   "metadata": {},
   "outputs": [
    {
     "name": "stdout",
     "output_type": "stream",
     "text": [
      "Apple\n",
      "ball\n",
      "dog\n",
      "fish\n"
     ]
    }
   ],
   "source": [
    "x = [\"Apple\", \"ball\", \"cat\", \"dog\",\"fish\"]\n",
    "for i in x:\n",
    "    if i == \"cat\":\n",
    "        continue\n",
    "    print(i)"
   ]
  },
  {
   "cell_type": "code",
   "execution_count": 46,
   "id": "771b6a90",
   "metadata": {},
   "outputs": [
    {
     "name": "stdout",
     "output_type": "stream",
     "text": [
      "yes 1\n"
     ]
    }
   ],
   "source": [
    "#search\n",
    "\n",
    "x = [\"Apple\", \"ball\", \"cat\", \"dog\",\"fish\"]\n",
    "if \"Apple\" in x:\n",
    "    print(\"yes\", x.count(\"Apple\"))"
   ]
  },
  {
   "cell_type": "code",
   "execution_count": 50,
   "id": "701516f8",
   "metadata": {},
   "outputs": [
    {
     "name": "stdout",
     "output_type": "stream",
     "text": [
      "['Apple', 'cat', 'dog', 'fish']\n"
     ]
    }
   ],
   "source": [
    "x = [\"Apple\", \"ball\", \"cat\", \"dog\",\"fish\"]\n",
    "#del remove() pop()\n",
    "x.remove(\"ball\")\n",
    "print(x)"
   ]
  },
  {
   "cell_type": "code",
   "execution_count": 51,
   "id": "c864abbd",
   "metadata": {},
   "outputs": [
    {
     "name": "stdout",
     "output_type": "stream",
     "text": [
      "['Apple', 'cat', 'dog', 'fish']\n"
     ]
    }
   ],
   "source": [
    "x = [\"Apple\", \"ball\", \"cat\", \"dog\",\"fish\"]\n",
    "del x[1]\n",
    "print(x)"
   ]
  },
  {
   "cell_type": "code",
   "execution_count": 53,
   "id": "355f10a4",
   "metadata": {},
   "outputs": [
    {
     "name": "stdout",
     "output_type": "stream",
     "text": [
      "['Apple', 'ball', 'dog', 'fish']\n"
     ]
    }
   ],
   "source": [
    "x = [\"Apple\", \"ball\", \"cat\", \"dog\",\"fish\"]\n",
    "x.pop(2)\n",
    "print(x)"
   ]
  },
  {
   "cell_type": "code",
   "execution_count": 59,
   "id": "abeaf50a",
   "metadata": {},
   "outputs": [
    {
     "data": {
      "text/plain": [
       "1"
      ]
     },
     "execution_count": 59,
     "metadata": {},
     "output_type": "execute_result"
    }
   ],
   "source": [
    "x = [\"Apple\", \"ball\", \"cat\", \"dog\",\"fish\"]\n",
    "x.index(\"ball\")"
   ]
  },
  {
   "cell_type": "code",
   "execution_count": 1,
   "id": "9b61f6a8",
   "metadata": {},
   "outputs": [
    {
     "name": "stdout",
     "output_type": "stream",
     "text": [
      "1\n",
      "5\n"
     ]
    }
   ],
   "source": [
    "x = [\"Apple\", \"ball\", \"cat\", \"dog\",\"fish\",\"ball\"]\n",
    "l = len(x)\n",
    "for i in range(l):\n",
    "    if x[i]==\"ball\":\n",
    "        print(i)"
   ]
  },
  {
   "cell_type": "code",
   "execution_count": 6,
   "id": "eb9170c7",
   "metadata": {},
   "outputs": [
    {
     "name": "stdout",
     "output_type": "stream",
     "text": [
      "['Apple', 'cat', 'dog', 'fish']\n"
     ]
    }
   ],
   "source": [
    "x = [\"Apple\", \"ball\", \"cat\", \"dog\",\"fish\",\"ball\"]\n",
    "\n",
    "for i in x:\n",
    "    if i == \"ball\":\n",
    "        x.remove(\"ball\")\n",
    "print(x)"
   ]
  },
  {
   "cell_type": "code",
   "execution_count": 1,
   "id": "e47c73f0",
   "metadata": {},
   "outputs": [
    {
     "name": "stdout",
     "output_type": "stream",
     "text": [
      "[[1, 2, 3], [4, 5, 6], [7, 8, 9]]\n",
      "<class 'list'>\n"
     ]
    }
   ],
   "source": [
    "#list inside list\n",
    "\n",
    "a=[[1,2,3],[4,5,6],[7,8,9]]\n",
    "print(a)\n",
    "print(type(a))\n",
    "\n",
    "\n"
   ]
  },
  {
   "cell_type": "code",
   "execution_count": 6,
   "id": "6e29e645",
   "metadata": {},
   "outputs": [
    {
     "name": "stdout",
     "output_type": "stream",
     "text": [
      "['ram', 34, 'kathmandu']\n",
      "['shyam', 43, 'patan']\n",
      "['hari', 67, 'bara']\n"
     ]
    }
   ],
   "source": [
    "a= [[\"ram\", 34, \"kathmandu\"],\n",
    "    [\"shyam\",43,\"patan\"],\n",
    "     [\"hari\",67,\"bara\"]]\n",
    "\n",
    "for i in a:\n",
    "    print(i)\n"
   ]
  },
  {
   "cell_type": "code",
   "execution_count": 10,
   "id": "dbcbfab9",
   "metadata": {},
   "outputs": [
    {
     "name": "stdout",
     "output_type": "stream",
     "text": [
      "['ram', 34, 'kathmandu']\n"
     ]
    }
   ],
   "source": [
    "a= [[\"ram\", 34, \"kathmandu\"],\n",
    "    [\"shyam\",43,\"patan\"],\n",
    "     [\"hari\",67,\"bara\"]]\n",
    "\n",
    "print(a[0])"
   ]
  },
  {
   "cell_type": "code",
   "execution_count": 12,
   "id": "aed96634",
   "metadata": {},
   "outputs": [
    {
     "name": "stdout",
     "output_type": "stream",
     "text": [
      "ram\n"
     ]
    }
   ],
   "source": [
    "a= [[\"ram\", 34, \"kathmandu\"],\n",
    "    [\"shyam\",43,\"patan\"],\n",
    "     [\"hari\",67,\"bara\"]]\n",
    "\n",
    "print(a[0][0])"
   ]
  },
  {
   "cell_type": "code",
   "execution_count": 14,
   "id": "32629c8d",
   "metadata": {},
   "outputs": [
    {
     "name": "stdout",
     "output_type": "stream",
     "text": [
      "enter the value of n2\n",
      "enter name- sauryan\n",
      "enter age- 23\n",
      "enter address- ktm\n",
      "enter name- ranasa\n",
      "enter age- 32\n",
      "enter address- fsaf\n",
      "[['sauryan', 23, 'ktm'], ['ranasa', 32, 'fsaf']]\n"
     ]
    }
   ],
   "source": [
    "info= list()\n",
    "\n",
    "n=int(input(\"enter the value of n\"))\n",
    "\n",
    "for i in range(n):\n",
    "    name= input(\"enter name- \")\n",
    "    age= int(input(\"enter age- \"))\n",
    "    add= input(\"enter address- \")\n",
    "    data= [name,age,add]\n",
    "    info.append(data)\n",
    "print(info)"
   ]
  },
  {
   "cell_type": "code",
   "execution_count": 26,
   "id": "1fb2328f",
   "metadata": {
    "scrolled": true
   },
   "outputs": [
    {
     "name": "stdout",
     "output_type": "stream",
     "text": [
      "[['sauryan', 23, 'ktm'], ['shyam', 32, 'bara'], ['hari', 56, 'jawalakhel']]\n"
     ]
    }
   ],
   "source": [
    "info= [['sauryan', 23, 'ktm'], ['shyam', 32, 'bara']]\n",
    "info.append(['hari',56,\"jawalakhel\"])\n",
    "\n",
    "print(info)"
   ]
  },
  {
   "cell_type": "code",
   "execution_count": 23,
   "id": "526c92c0",
   "metadata": {},
   "outputs": [
    {
     "name": "stdout",
     "output_type": "stream",
     "text": [
      "enter search- sauryan\n",
      "['sauryan', 23, 'ktm']\n"
     ]
    }
   ],
   "source": [
    "search= input(\"enter search- \")\n",
    "for i in info:\n",
    "    if search in i:\n",
    "        print(i)\n",
    "        break\n",
    "else:\n",
    "    print(\"no data found\")"
   ]
  },
  {
   "cell_type": "code",
   "execution_count": 27,
   "id": "a6c8691b",
   "metadata": {},
   "outputs": [
    {
     "name": "stdout",
     "output_type": "stream",
     "text": [
      "[['Ram', 23, 'ktm'], ['shyam', 32, 'bara'], ['hari', 56, 'jawalakhel']]\n"
     ]
    }
   ],
   "source": [
    "#replacing \"ram\" with \"Ram\"\n",
    "\n",
    "info= [['sauryan', 23, 'ktm'], ['shyam', 32, 'bara'], ['hari', 56, 'jawalakhel']]\n",
    "info[0][0]=\"Ram\"\n",
    "print(info)"
   ]
  },
  {
   "cell_type": "code",
   "execution_count": 29,
   "id": "3f606eeb",
   "metadata": {},
   "outputs": [
    {
     "name": "stdout",
     "output_type": "stream",
     "text": [
      "[[23, 'ktm'], ['shyam', 32, 'bara'], ['hari', 56, 'jawalakhel']]\n"
     ]
    }
   ],
   "source": [
    "#deleting a list within list\n",
    "\n",
    "info= [['sauryan', 23, 'ktm'], ['shyam', 32, 'bara'], ['hari', 56, 'jawalakhel']]\n",
    "del info[0][0]\n",
    "print(info)"
   ]
  },
  {
   "cell_type": "code",
   "execution_count": 32,
   "id": "8887aa24",
   "metadata": {},
   "outputs": [
    {
     "name": "stdout",
     "output_type": "stream",
     "text": [
      "enter row- 3\n",
      "enter coloumn- 3\n",
      "enter x- 1\n",
      "enter x- 2\n",
      "enter x- 3\n",
      "enter x- 4\n",
      "enter x- 5\n",
      "enter x- 6\n",
      "enter x- 7\n",
      "enter x- 8\n",
      "enter x- 9\n",
      "[[1, 2, 3], [4, 5, 6], [7, 8, 9]]\n"
     ]
    }
   ],
   "source": [
    "m= []\n",
    "r= int(input(\"enter row- \"))\n",
    "c= int(input(\"enter coloumn- \"))\n",
    "\n",
    "for i in range(r):\n",
    "    n=[]\n",
    "    for j in range(c):\n",
    "        x= int(input(\"enter x- \"))\n",
    "        n.append(x)\n",
    "        \n",
    "    m.append(n)\n",
    "    \n",
    "print(m)"
   ]
  },
  {
   "cell_type": "code",
   "execution_count": 35,
   "id": "fdb41d4e",
   "metadata": {},
   "outputs": [
    {
     "name": "stdout",
     "output_type": "stream",
     "text": [
      "enter the value of n- 2\n",
      "enter name- sauryan\n",
      "enter price- 421421\n",
      "enter name- sda\n",
      "enter price- 432\n",
      "sauryan 421421\n",
      "sda 432\n",
      "\n"
     ]
    }
   ],
   "source": [
    "s= str()\n",
    "n= int(input(\"enter the value of n- \"))\n",
    "\n",
    "for i in range(n):\n",
    "    name= input(\"enter name- \")\n",
    "    phone = int(input(\"enter phone- \"))\n",
    "    s=s+ f\"{name} {phone}\\n\"\n",
    "print(s)"
   ]
  },
  {
   "cell_type": "markdown",
   "id": "6d446704",
   "metadata": {},
   "source": []
  },
  {
   "cell_type": "code",
   "execution_count": 37,
   "id": "0f1ae92d",
   "metadata": {},
   "outputs": [
    {
     "name": "stdout",
     "output_type": "stream",
     "text": [
      "sauryan 421421\n",
      "sda 432\n",
      "\n"
     ]
    },
    {
     "data": {
      "text/plain": [
       "'sauryan 421421\\nsda 432\\n'"
      ]
     },
     "execution_count": 37,
     "metadata": {},
     "output_type": "execute_result"
    }
   ],
   "source": [
    "print(s)\n",
    "s"
   ]
  },
  {
   "cell_type": "code",
   "execution_count": 43,
   "id": "482351ec",
   "metadata": {},
   "outputs": [
    {
     "name": "stdout",
     "output_type": "stream",
     "text": [
      "['sauryan 421421', 'sda 432']\n",
      "[['sauryan', '421421'], ['sda', '432']]\n"
     ]
    }
   ],
   "source": [
    "x= []\n",
    "a= s.split(\"\\n\")[0:-1]\n",
    "print(a)\n",
    "for i in a:\n",
    "    y= i.split()\n",
    "    x.append(y)\n",
    "print(x)"
   ]
  },
  {
   "cell_type": "code",
   "execution_count": null,
   "id": "504c4512",
   "metadata": {},
   "outputs": [],
   "source": []
  }
 ],
 "metadata": {
  "kernelspec": {
   "display_name": "Python 3 (ipykernel)",
   "language": "python",
   "name": "python3"
  },
  "language_info": {
   "codemirror_mode": {
    "name": "ipython",
    "version": 3
   },
   "file_extension": ".py",
   "mimetype": "text/x-python",
   "name": "python",
   "nbconvert_exporter": "python",
   "pygments_lexer": "ipython3",
   "version": "3.9.7"
  }
 },
 "nbformat": 4,
 "nbformat_minor": 5
}
