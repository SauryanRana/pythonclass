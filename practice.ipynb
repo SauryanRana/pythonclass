{
 "cells": [
  {
   "cell_type": "code",
   "execution_count": 5,
   "id": "beb52d83",
   "metadata": {},
   "outputs": [],
   "source": [
    "#database\n",
    "import mysql.connector\n",
    "#importing database\n",
    "database = mysql.connector.connect(\n",
    "    host=\"localhost\",\n",
    "    user= \"root\",\n",
    "    password=\"\",\n",
    "    database= \"practice\"\n",
    ")\n",
    "db = database.cursor()\n",
    "\n"
   ]
  },
  {
   "cell_type": "code",
   "execution_count": 13,
   "id": "fb92941c",
   "metadata": {},
   "outputs": [
    {
     "name": "stdout",
     "output_type": "stream",
     "text": [
      "(1, 'Sauryan', 24, 'jawalakhel', 1860438451)\n",
      "(2, 'ram', 25, 'kathmandu', 123435323)\n"
     ]
    }
   ],
   "source": [
    "sql = \"SELECT * FROM contacts\"\n",
    "db.execute(sql)\n",
    "\n",
    "result = db.fetchall()\n",
    "for x in result:\n",
    "    print(x)"
   ]
  },
  {
   "cell_type": "code",
   "execution_count": 15,
   "id": "46f3a61f",
   "metadata": {},
   "outputs": [
    {
     "name": "stdout",
     "output_type": "stream",
     "text": [
      "(1, 'Sauryan', 1860438451)\n",
      "(2, 'ram', 123435323)\n"
     ]
    }
   ],
   "source": [
    "sql = \"SELECT SN,Name,Phone FROM contacts\"\n",
    "db.execute(sql)\n",
    "\n",
    "result = db.fetchall()\n",
    "for x in result:\n",
    "    print(x)"
   ]
  },
  {
   "cell_type": "code",
   "execution_count": 1,
   "id": "bea536cc",
   "metadata": {},
   "outputs": [
    {
     "name": "stdout",
     "output_type": "stream",
     "text": [
      "hello world\n"
     ]
    }
   ],
   "source": [
    "class Hello:\n",
    "    def hello():\n",
    "        print(\"hello world\")\n",
    "        \n",
    "obj= Hello\n",
    "obj.hello()\n"
   ]
  },
  {
   "cell_type": "code",
   "execution_count": 3,
   "id": "be808aa1",
   "metadata": {},
   "outputs": [
    {
     "name": "stdout",
     "output_type": "stream",
     "text": [
      "10\n"
     ]
    }
   ],
   "source": [
    "class Cal:\n",
    "    \n",
    "    def cal(self,l,b):\n",
    "        a= l*b\n",
    "        print(a)\n",
    "        \n",
    "obj= Cal()\n",
    "obj.cal(5,2)"
   ]
  },
  {
   "cell_type": "code",
   "execution_count": 6,
   "id": "62d9b6a5",
   "metadata": {},
   "outputs": [
    {
     "name": "stdout",
     "output_type": "stream",
     "text": [
      "50\n",
      "100\n"
     ]
    }
   ],
   "source": [
    "class Cal:\n",
    "    \n",
    "    def __init__(self,l,b,h):\n",
    "        self.l= l\n",
    "        self.b = b\n",
    "        self.h = h\n",
    "        \n",
    "    def area(self):\n",
    "        a=self.l*self.b\n",
    "        print(a)\n",
    "    \n",
    "    def volume(self):\n",
    "        vol= self.l*self.b*self.h\n",
    "        print(vol)\n",
    "        \n",
    "obj= Cal(5,10,2)\n",
    "obj.area()\n",
    "obj.volume()"
   ]
  },
  {
   "cell_type": "code",
   "execution_count": 14,
   "id": "ec2db776",
   "metadata": {},
   "outputs": [
    {
     "name": "stdout",
     "output_type": "stream",
     "text": [
      "20\n",
      "750\n"
     ]
    }
   ],
   "source": [
    "class Area:\n",
    "    \n",
    "    def __init__(self,l,b):\n",
    "        self.l= l\n",
    "        self.b = b\n",
    "        \n",
    "    def area(self):\n",
    "        a=self.l*self.b\n",
    "        print(a)\n",
    "        \n",
    "class Volume:\n",
    "    def __init__(self,l,b,h):\n",
    "        self.l=l\n",
    "        self.b=b\n",
    "        self.h=h\n",
    "    \n",
    "    def volume(self):\n",
    "        vol= self.l*self.b*self.h\n",
    "        print(vol)\n",
    "        \n",
    "obj= Area(10,2)\n",
    "obj.area()\n",
    "\n",
    "obj1= Volume(5,10,15)\n",
    "obj1.volume()"
   ]
  },
  {
   "cell_type": "code",
   "execution_count": 6,
   "id": "58345d2c",
   "metadata": {},
   "outputs": [
    {
     "name": "stdout",
     "output_type": "stream",
     "text": [
      "enter your name- sauryan\n",
      "enter your age- 20\n",
      "my name is sauryan. I am 20\n"
     ]
    }
   ],
   "source": [
    "class Cal:\n",
    "    \n",
    "    def __init__(self):\n",
    "        self.name= input(\"enter your name- \")\n",
    "        self.age= int(input(\"enter your age- \"))\n",
    "        \n",
    "#     def __str__(self):\n",
    "#         return self.name\n",
    "\n",
    "    def info(self):\n",
    "        print(f\"my name is {self.name}. I am {self.age}\")\n",
    "              \n",
    "obj=Cal()\n",
    "obj.info()"
   ]
  },
  {
   "cell_type": "code",
   "execution_count": 3,
   "id": "49692ba7",
   "metadata": {},
   "outputs": [
    {
     "name": "stdout",
     "output_type": "stream",
     "text": [
      "50\n",
      "100\n"
     ]
    }
   ],
   "source": [
    "class Area:\n",
    "    def __init__(self,l,b):\n",
    "        self.l= l\n",
    "        self.b= b\n",
    "        \n",
    "    \n",
    "    def area(self):\n",
    "        a= self.l*self.b\n",
    "        print(a)\n",
    "        \n",
    "class Volume:\n",
    "    def __init__(self,l,b,h):\n",
    "        self.l= l\n",
    "        self.b= b\n",
    "        self.h= h\n",
    "        \n",
    "    def volume(self):\n",
    "        v= self.l*self.b*self.h\n",
    "        print(v)\n",
    "        \n",
    "obj= Area(10,5)\n",
    "obj.area()\n",
    "\n",
    "obj1=Volume(10,5,2)\n",
    "obj1.volume()"
   ]
  },
  {
   "cell_type": "code",
   "execution_count": null,
   "id": "8475712b",
   "metadata": {},
   "outputs": [],
   "source": [
    "class Profile:\n",
    "    self.name= input(\"enter your name- \")\n",
    "    self.address= input(\"enter your address- \")\n",
    "    \n",
    "class Info(Profile):\n",
    "    print(self.name, self.addresss)\n",
    "    \n",
    "obj="
   ]
  }
 ],
 "metadata": {
  "kernelspec": {
   "display_name": "Python 3 (ipykernel)",
   "language": "python",
   "name": "python3"
  },
  "language_info": {
   "codemirror_mode": {
    "name": "ipython",
    "version": 3
   },
   "file_extension": ".py",
   "mimetype": "text/x-python",
   "name": "python",
   "nbconvert_exporter": "python",
   "pygments_lexer": "ipython3",
   "version": "3.9.7"
  }
 },
 "nbformat": 4,
 "nbformat_minor": 5
}
