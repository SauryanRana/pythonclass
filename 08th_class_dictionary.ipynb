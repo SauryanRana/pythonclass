{
 "cells": [
  {
   "cell_type": "code",
   "execution_count": 1,
   "id": "b7f584ea",
   "metadata": {},
   "outputs": [],
   "source": [
    "# dictionary\n",
    "# -indexing\n",
    "# -duplicate/ multiple value but keys cannot be same\n",
    "# -ordered\n",
    "# -mutable\n"
   ]
  },
  {
   "cell_type": "code",
   "execution_count": 2,
   "id": "92692781",
   "metadata": {},
   "outputs": [],
   "source": [
    "# a={} dictionary\n",
    "# b= dict{} empty dict\n",
    "\n",
    "# a= {\"key\":value, \"key\":value}\n"
   ]
  },
  {
   "cell_type": "code",
   "execution_count": 16,
   "id": "379b0a19",
   "metadata": {},
   "outputs": [
    {
     "name": "stdout",
     "output_type": "stream",
     "text": [
      "{'a': 'apple', 'b': 'ball', 'c': 'cat'}\n",
      "{1: 1, 2: 4, 3: 9}\n",
      "{'a': 'apple', 'b': 'ball', 'c': 'cat'} {1: 1, 2: 4, 3: 9}\n"
     ]
    }
   ],
   "source": [
    "a={\"a\": \"apple\", \"b\":\"ball\", \"c\":\"cat\"}\n",
    "b= {1:1, 2:4, 3:9}\n",
    "\n",
    "print(a)\n",
    "print(b)\n",
    "print(a,b)"
   ]
  },
  {
   "cell_type": "code",
   "execution_count": 14,
   "id": "080d5412",
   "metadata": {},
   "outputs": [
    {
     "name": "stdout",
     "output_type": "stream",
     "text": [
      "apple\n",
      "9\n",
      "3\n",
      "dict_values(['apple', 'ball', 'cat'])\n"
     ]
    }
   ],
   "source": [
    "#indexing\n",
    "\n",
    "print(a[\"a\"])\n",
    "print(b[3])\n",
    "print(len(a))\n"
   ]
  },
  {
   "cell_type": "code",
   "execution_count": 13,
   "id": "15c9d6f0",
   "metadata": {},
   "outputs": [
    {
     "name": "stdout",
     "output_type": "stream",
     "text": [
      "a\n",
      "b\n",
      "c\n"
     ]
    }
   ],
   "source": [
    "a={\"a\": \"apple\", \"b\":\"ball\", \"c\":\"cat\"}\n",
    "for i in a:\n",
    "    print(i) #only key"
   ]
  },
  {
   "cell_type": "code",
   "execution_count": 15,
   "id": "0993fa39",
   "metadata": {},
   "outputs": [
    {
     "name": "stdout",
     "output_type": "stream",
     "text": [
      "apple\n",
      "ball\n",
      "cat\n",
      "('a', 'apple')\n",
      "('b', 'ball')\n",
      "('c', 'cat')\n"
     ]
    }
   ],
   "source": [
    "a={\"a\": \"apple\", \"b\":\"ball\", \"c\":\"cat\"}\n",
    "for i in a.values(): #only values\n",
    "    print(i)\n",
    "    \n",
    "for i in a.items(): #key and values\n",
    "    print(i)\n",
    "    "
   ]
  },
  {
   "cell_type": "code",
   "execution_count": 19,
   "id": "75a76cf3",
   "metadata": {},
   "outputs": [
    {
     "name": "stdout",
     "output_type": "stream",
     "text": [
      "{'a': 'apple', 'b': 'ball', 'c': 'cat', 'A': 'apple'}\n"
     ]
    }
   ],
   "source": [
    "a={\"a\": \"apple\", \"b\":\"ball\", \"c\":\"cat\", 'A':\"apple\"}\n",
    "print(a)"
   ]
  },
  {
   "cell_type": "code",
   "execution_count": 20,
   "id": "ec612f84",
   "metadata": {},
   "outputs": [
    {
     "name": "stdout",
     "output_type": "stream",
     "text": [
      "{'a': 'ant', 'b': 'ball', 'c': 'cat'}\n"
     ]
    }
   ],
   "source": [
    "a={\"a\": \"apple\", \"b\":\"ball\", \"c\":\"cat\", 'a':\"ant\"}\n",
    "print(a)"
   ]
  },
  {
   "cell_type": "code",
   "execution_count": 22,
   "id": "b15c4c16",
   "metadata": {},
   "outputs": [
    {
     "name": "stdout",
     "output_type": "stream",
     "text": [
      "{'a': 'apple', 'b': 'ball', 'c': 'cat'}\n"
     ]
    }
   ],
   "source": [
    "a={}\n",
    "a['a']=\"apple\"\n",
    "a['b']=\"ball\"\n",
    "a['c']=\"cat\"\n",
    "\n",
    "print(a)"
   ]
  },
  {
   "cell_type": "code",
   "execution_count": 26,
   "id": "332af48b",
   "metadata": {},
   "outputs": [
    {
     "name": "stdout",
     "output_type": "stream",
     "text": [
      "enter the value of n- 2\n",
      "enter name- sauryan\n",
      "enter phone- 14242\n",
      "enter name- ram\n",
      "enter phone- 35262\n",
      "{'sauryan': 14242, 'ram': 35262}\n"
     ]
    }
   ],
   "source": [
    "d= dict()\n",
    "n= int(input(\"enter the value of n- \"))\n",
    "\n",
    "for i in range(n):\n",
    "    name= input(\"enter name- \")\n",
    "    phone= int(input(\"enter phone- \"))\n",
    "    d[name]= phone\n",
    "\n",
    "print(d)\n",
    "# d[\"hari\"]=523325\n",
    "# print(d)"
   ]
  },
  {
   "cell_type": "code",
   "execution_count": 28,
   "id": "737148ed",
   "metadata": {},
   "outputs": [
    {
     "ename": "AttributeError",
     "evalue": "'dict' object has no attribute 'append'",
     "output_type": "error",
     "traceback": [
      "\u001b[1;31m---------------------------------------------------------------------------\u001b[0m",
      "\u001b[1;31mAttributeError\u001b[0m                            Traceback (most recent call last)",
      "\u001b[1;32m~\\AppData\\Local\\Temp/ipykernel_5888/3529653848.py\u001b[0m in \u001b[0;36m<module>\u001b[1;34m\u001b[0m\n\u001b[0;32m      2\u001b[0m \u001b[0mb\u001b[0m\u001b[1;33m=\u001b[0m\u001b[1;33m{\u001b[0m\u001b[1;34m\"black\"\u001b[0m\u001b[1;33m:\u001b[0m\u001b[1;36m5\u001b[0m\u001b[1;33m}\u001b[0m\u001b[1;33m\u001b[0m\u001b[1;33m\u001b[0m\u001b[0m\n\u001b[0;32m      3\u001b[0m \u001b[1;33m\u001b[0m\u001b[0m\n\u001b[1;32m----> 4\u001b[1;33m \u001b[0ma\u001b[0m\u001b[1;33m.\u001b[0m\u001b[0mappend\u001b[0m\u001b[1;33m(\u001b[0m\u001b[0mb\u001b[0m\u001b[1;33m)\u001b[0m\u001b[1;33m\u001b[0m\u001b[1;33m\u001b[0m\u001b[0m\n\u001b[0m\u001b[0;32m      5\u001b[0m \u001b[0mprint\u001b[0m\u001b[1;33m(\u001b[0m\u001b[0ma\u001b[0m\u001b[1;33m)\u001b[0m\u001b[1;33m\u001b[0m\u001b[1;33m\u001b[0m\u001b[0m\n",
      "\u001b[1;31mAttributeError\u001b[0m: 'dict' object has no attribute 'append'"
     ]
    }
   ],
   "source": [
    "a= {}\n",
    "b={}\n",
    "print(a+b)"
   ]
  },
  {
   "cell_type": "code",
   "execution_count": 29,
   "id": "f749b414",
   "metadata": {},
   "outputs": [],
   "source": [
    "# del pop()"
   ]
  },
  {
   "cell_type": "code",
   "execution_count": 30,
   "id": "928f7c4d",
   "metadata": {},
   "outputs": [
    {
     "name": "stdout",
     "output_type": "stream",
     "text": [
      "{'sauryan': 14242}\n"
     ]
    }
   ],
   "source": [
    "a={'sauryan': 14242, 'ram': 35262}\n",
    "del a['ram']\n",
    "print(a)"
   ]
  },
  {
   "cell_type": "code",
   "execution_count": 31,
   "id": "690758df",
   "metadata": {},
   "outputs": [
    {
     "name": "stdout",
     "output_type": "stream",
     "text": [
      "{'sauryan': 14242}\n"
     ]
    }
   ],
   "source": [
    "a={'sauryan': 14242, 'ram': 35262}\n",
    "a.pop('ram')\n",
    "print(a)"
   ]
  },
  {
   "cell_type": "code",
   "execution_count": 36,
   "id": "4ae223c0",
   "metadata": {},
   "outputs": [
    {
     "name": "stdout",
     "output_type": "stream",
     "text": [
      "{'sauryan': 14242}\n",
      "35262\n"
     ]
    }
   ],
   "source": [
    "a={'sauryan': 14242, 'ram': 35262}\n",
    "b=a.pop(\"ram\")\n",
    "\n",
    "print(a)\n",
    "print(b)"
   ]
  },
  {
   "cell_type": "code",
   "execution_count": 37,
   "id": "a760f320",
   "metadata": {},
   "outputs": [
    {
     "name": "stdout",
     "output_type": "stream",
     "text": [
      "{}\n"
     ]
    }
   ],
   "source": [
    "a={'sauryan': 14242, 'ram': 35262}\n",
    "a.clear()\n",
    "print(a)"
   ]
  },
  {
   "cell_type": "code",
   "execution_count": 38,
   "id": "e16c5754",
   "metadata": {},
   "outputs": [
    {
     "name": "stdout",
     "output_type": "stream",
     "text": [
      "{'sauryan': 14242, 'ram': 35262, 'hari': 24532}\n"
     ]
    }
   ],
   "source": [
    "a={'sauryan': 14242, 'ram': 35262}\n",
    "b= {'hari':24532}\n",
    "a.update(b)\n",
    "print(a)"
   ]
  },
  {
   "cell_type": "code",
   "execution_count": 44,
   "id": "d0b27136",
   "metadata": {},
   "outputs": [
    {
     "name": "stdout",
     "output_type": "stream",
     "text": [
      "{'sauryan': [14242, 23525], 'ram': [35262, 235233]}\n",
      "[14242, 23525]\n"
     ]
    }
   ],
   "source": [
    "#list inside dict\n",
    "a={'sauryan': [14242, 23525],'ram': [35262,235233]}\n",
    "print(a)\n",
    "print(a['sauryan'])\n"
   ]
  },
  {
   "cell_type": "code",
   "execution_count": 45,
   "id": "ef59f110",
   "metadata": {},
   "outputs": [
    {
     "name": "stdout",
     "output_type": "stream",
     "text": [
      "enter the value of n- 2\n",
      "enter name- sauryan\n",
      "enter ntc phone- 532523\n",
      "enter ncell phone- 53223643\n",
      "enter name- hari\n",
      "enter ntc phone- 040923\n",
      "enter ncell phone- 5231\n",
      "{'sauryan': [532523, 53223643], 'hari': [40923, 5231]}\n"
     ]
    }
   ],
   "source": [
    "#input multiple values\n",
    "\n",
    "d= dict()\n",
    "n= int(input(\"enter the value of n- \"))\n",
    "\n",
    "for i in range(n):\n",
    "    name= input(\"enter name- \")\n",
    "    ntc_phone= int(input(\"enter ntc phone- \"))\n",
    "    ncell_phone= int(input(\"enter ncell phone- \"))\n",
    "    d[name]= [ntc_phone, ncell_phone]\n",
    "\n",
    "print(d)\n"
   ]
  },
  {
   "cell_type": "code",
   "execution_count": 46,
   "id": "baa62449",
   "metadata": {},
   "outputs": [
    {
     "name": "stdout",
     "output_type": "stream",
     "text": [
      "enter the value of n- 3\n",
      "enter name- sauryan\n",
      "enter age- 23\n",
      "enter address- fdsagas\n",
      "enter name- ram\n",
      "enter age- 432\n",
      "enter address- dgagad\n",
      "enter name- shyam\n",
      "enter age- 53\n",
      "enter address- dgata\n",
      "{1: ['sauryan', 23, 'fdsagas'], 2: ['ram', 432, 'dgagad'], 3: ['shyam', 53, 'dgata']}\n"
     ]
    }
   ],
   "source": [
    "d= dict()\n",
    "n= int(input(\"enter the value of n- \"))\n",
    "\n",
    "for i in range(1,n+1):\n",
    "    name= input(\"enter name- \")\n",
    "    age= int(input(\"enter age- \"))\n",
    "    address= input(\"enter address- \")\n",
    "    d[i]= [name,age,address]\n",
    "\n",
    "print(d)\n"
   ]
  },
  {
   "cell_type": "code",
   "execution_count": 49,
   "id": "24e91df6",
   "metadata": {},
   "outputs": [
    {
     "name": "stdout",
     "output_type": "stream",
     "text": [
      "{'name': ['Ram', 'Shyam'], 'age': [24, 25], 'address': ['ktm', 'pkr']}\n"
     ]
    }
   ],
   "source": [
    "a= {'name': ['Ram','Shyam'], 'age':[24,25], 'address': [\"ktm\", \"pkr\"]}\n",
    "print(a)"
   ]
  },
  {
   "cell_type": "code",
   "execution_count": 50,
   "id": "2278a397",
   "metadata": {},
   "outputs": [
    {
     "name": "stdout",
     "output_type": "stream",
     "text": [
      "enter the value of n- 2\n",
      "enter name- saauryan\n",
      "enter age- 23\n",
      "enter address- fsaga\n",
      "enter name- ram\n",
      "enter age- 54\n",
      "enter address- fasff\n",
      "{'name': ['saauryan', 'ram'], 'age': [23, 54], 'address': ['fsaga', 'fasff']}\n"
     ]
    }
   ],
   "source": [
    "\n",
    "na=[]\n",
    "ag=[]\n",
    "ad=[]\n",
    "n= int(input(\"enter the value of n- \"))\n",
    "\n",
    "for i in range(1,n+1):\n",
    "    name= input(\"enter name- \")\n",
    "    age= int(input(\"enter age- \"))\n",
    "    address= input(\"enter address- \")\n",
    "    na.append(name)\n",
    "    ag.append(age)\n",
    "    ad.append(address)\n",
    "    \n",
    "info= {'name': na, 'age': ag, \"address\": ad}\n",
    "print(info)"
   ]
  },
  {
   "cell_type": "code",
   "execution_count": 51,
   "id": "9a2b2857",
   "metadata": {},
   "outputs": [
    {
     "name": "stdout",
     "output_type": "stream",
     "text": [
      "<class 'dict'>\n"
     ]
    }
   ],
   "source": [
    "d={'name': ['saauryan', 'ram'], 'age': [23, 54], 'address': ['fsaga', 'fasff']}\n",
    "print(type(d))"
   ]
  },
  {
   "cell_type": "code",
   "execution_count": 55,
   "id": "35ddd5e8",
   "metadata": {},
   "outputs": [
    {
     "name": "stdout",
     "output_type": "stream",
     "text": [
      "[532523, 53223643]\n",
      "532523\n"
     ]
    }
   ],
   "source": [
    "d={'sauryan': [532523, 53223643], 'hari': [40923, 5231]}\n",
    "print(d['sauryan'])\n",
    "print(d['sauryan'][0])"
   ]
  },
  {
   "cell_type": "code",
   "execution_count": 56,
   "id": "6fd672db",
   "metadata": {},
   "outputs": [
    {
     "name": "stdout",
     "output_type": "stream",
     "text": [
      "{'sauryan': [9843252, 53223643], 'hari': [40923, 5231]}\n"
     ]
    }
   ],
   "source": [
    "d['sauryan'][0]= 9843252\n",
    "print(d)"
   ]
  },
  {
   "cell_type": "code",
   "execution_count": 59,
   "id": "6d24d2ff",
   "metadata": {},
   "outputs": [
    {
     "name": "stdout",
     "output_type": "stream",
     "text": [
      "{'sauryan': [532523, 53223643, '554353'], 'hari': [40923, 5231]}\n",
      "{'sauryan': [532523, 53223643, '554353'], 'hari': [40923, 5231], 'shyam': [5943543, 5321523]}\n"
     ]
    }
   ],
   "source": [
    "d={'sauryan': [532523, 53223643], 'hari': [40923, 5231]}\n",
    "d['sauryan'].append('554353')\n",
    "print(d)\n",
    "\n",
    "d.update({'shyam': [5943543,5321523]})\n",
    "print(d)"
   ]
  },
  {
   "cell_type": "code",
   "execution_count": 63,
   "id": "41dfdd54",
   "metadata": {},
   "outputs": [
    {
     "name": "stdout",
     "output_type": "stream",
     "text": [
      "{'name': ['Shyam'], 'age': [24, 25, 54], 'address': ['ktm', 'pkr', 'chitwan']}\n"
     ]
    }
   ],
   "source": [
    "a= {'name': ['Ram','Shyam'], 'age':[24,25], 'address': [\"ktm\", \"pkr\"]}\n",
    "a['name'].append('hari')\n",
    "a['age'].append(54)\n",
    "a['address'].append('chitwan')\n",
    "print(a)"
   ]
  },
  {
   "cell_type": "code",
   "execution_count": 64,
   "id": "0b4ac517",
   "metadata": {},
   "outputs": [
    {
     "name": "stdout",
     "output_type": "stream",
     "text": [
      "{'name': ['Shyam'], 'age': [25], 'address': ['pkr']}\n"
     ]
    }
   ],
   "source": [
    "a= {'name': ['Ram','Shyam'], 'age':[24,25], 'address': [\"ktm\", \"pkr\"]}\n",
    "del a['name'][0]\n",
    "del a['age'][0]\n",
    "del a['address'][0]\n",
    "print(a)"
   ]
  },
  {
   "cell_type": "code",
   "execution_count": 66,
   "id": "b999185d",
   "metadata": {},
   "outputs": [
    {
     "name": "stdout",
     "output_type": "stream",
     "text": [
      "enter name- Ram\n"
     ]
    },
    {
     "data": {
      "text/plain": [
       "0"
      ]
     },
     "execution_count": 66,
     "metadata": {},
     "output_type": "execute_result"
    }
   ],
   "source": [
    "data= {'name': ['Ram','Shyam','hari'], 'age':[24,25,34], 'address': [\"ktm\", \"pkr\", \"chitwan\"]}\n",
    "\n",
    "name= input(\"enter name- \")\n",
    "index= data['name'].index(name)\n",
    "index"
   ]
  },
  {
   "cell_type": "code",
   "execution_count": 67,
   "id": "34753cc1",
   "metadata": {},
   "outputs": [
    {
     "data": {
      "text/plain": [
       "{'name': ['Ram', 'Shyam', 'hari'],\n",
       " 'age': [24, 25, 34],\n",
       " 'address': ['ktm', 'pkr', 'chitwan']}"
      ]
     },
     "execution_count": 67,
     "metadata": {},
     "output_type": "execute_result"
    }
   ],
   "source": [
    "del a['name'][index]\n",
    "del a['age'][index]\n",
    "del a['address'][index]\n",
    "data"
   ]
  },
  {
   "cell_type": "code",
   "execution_count": 2,
   "id": "ccc2dd05",
   "metadata": {},
   "outputs": [
    {
     "name": "stdout",
     "output_type": "stream",
     "text": [
      "enter the value of n- 2\n",
      "enter value- 1\n",
      "enter value- 2\n",
      "enter the value of n- 3\n",
      "enter value- 3\n",
      "enter value- 4\n",
      "enter value- 5\n",
      "{1: 1, 2: 4, 3: 9, 4: 16, 5: 25}\n"
     ]
    }
   ],
   "source": [
    "def one():\n",
    "    d1={}\n",
    "    n= int(input(\"enter the value of n- \"))\n",
    "    for i in range(n):\n",
    "        x= int(input(\"enter value- \"))\n",
    "        d1[x]= x*x\n",
    "    return d1\n",
    "\n",
    "def two():\n",
    "    d2={}\n",
    "    n= int(input(\"enter the value of n- \"))\n",
    "    for i in range(n):\n",
    "        x= int(input(\"enter value- \"))\n",
    "        d2[x]= x*x\n",
    "    return d2\n",
    "\n",
    "x= one()\n",
    "y=two()\n",
    "\n",
    "x.update(y)\n",
    "\n",
    "print(x)\n",
    "\n",
    "    \n",
    "        "
   ]
  },
  {
   "cell_type": "markdown",
   "id": "08f95255",
   "metadata": {},
   "source": [
    "\n"
   ]
  }
 ],
 "metadata": {
  "kernelspec": {
   "display_name": "Python 3 (ipykernel)",
   "language": "python",
   "name": "python3"
  },
  "language_info": {
   "codemirror_mode": {
    "name": "ipython",
    "version": 3
   },
   "file_extension": ".py",
   "mimetype": "text/x-python",
   "name": "python",
   "nbconvert_exporter": "python",
   "pygments_lexer": "ipython3",
   "version": "3.9.7"
  }
 },
 "nbformat": 4,
 "nbformat_minor": 5
}
