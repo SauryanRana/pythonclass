{
 "cells": [
  {
   "cell_type": "code",
   "execution_count": 1,
   "id": "61019b42",
   "metadata": {},
   "outputs": [
    {
     "data": {
      "text/plain": [
       "set"
      ]
     },
     "execution_count": 1,
     "metadata": {},
     "output_type": "execute_result"
    }
   ],
   "source": [
    "#set\n",
    "a={1,2,3,4,5,6,7}\n",
    "type(a)"
   ]
  },
  {
   "cell_type": "code",
   "execution_count": 2,
   "id": "06829ec2",
   "metadata": {},
   "outputs": [],
   "source": [
    "# set\n",
    "# -no indexing\n",
    "# -unordered\n",
    "# -no duplicate values\n",
    "# -mutable"
   ]
  },
  {
   "cell_type": "code",
   "execution_count": 3,
   "id": "1db30073",
   "metadata": {},
   "outputs": [
    {
     "ename": "TypeError",
     "evalue": "'set' object is not subscriptable",
     "output_type": "error",
     "traceback": [
      "\u001b[1;31m---------------------------------------------------------------------------\u001b[0m",
      "\u001b[1;31mTypeError\u001b[0m                                 Traceback (most recent call last)",
      "\u001b[1;32m~\\AppData\\Local\\Temp/ipykernel_10668/3943581035.py\u001b[0m in \u001b[0;36m<module>\u001b[1;34m\u001b[0m\n\u001b[0;32m      1\u001b[0m \u001b[0ma\u001b[0m\u001b[1;33m=\u001b[0m\u001b[1;33m{\u001b[0m\u001b[1;36m1\u001b[0m\u001b[1;33m,\u001b[0m\u001b[1;36m2\u001b[0m\u001b[1;33m,\u001b[0m\u001b[1;36m3\u001b[0m\u001b[1;33m,\u001b[0m\u001b[1;36m4\u001b[0m\u001b[1;33m,\u001b[0m\u001b[1;36m5\u001b[0m\u001b[1;33m,\u001b[0m\u001b[1;36m6\u001b[0m\u001b[1;33m,\u001b[0m\u001b[1;36m7\u001b[0m\u001b[1;33m}\u001b[0m\u001b[1;33m\u001b[0m\u001b[1;33m\u001b[0m\u001b[0m\n\u001b[1;32m----> 2\u001b[1;33m \u001b[0ma\u001b[0m\u001b[1;33m[\u001b[0m\u001b[1;36m0\u001b[0m\u001b[1;33m]\u001b[0m\u001b[1;33m\u001b[0m\u001b[1;33m\u001b[0m\u001b[0m\n\u001b[0m",
      "\u001b[1;31mTypeError\u001b[0m: 'set' object is not subscriptable"
     ]
    }
   ],
   "source": [
    "#doesn't support indexing\n",
    "a={1,2,3,4,5,6,7}\n",
    "a[0]"
   ]
  },
  {
   "cell_type": "code",
   "execution_count": 6,
   "id": "63866995",
   "metadata": {},
   "outputs": [
    {
     "name": "stdout",
     "output_type": "stream",
     "text": [
      "{'cat', 'zebra', 'apple', 'ball'}\n"
     ]
    },
    {
     "data": {
      "text/plain": [
       "{'apple', 'ball', 'cat', 'zebra'}"
      ]
     },
     "execution_count": 6,
     "metadata": {},
     "output_type": "execute_result"
    }
   ],
   "source": [
    "#unorderd\n",
    "a= {'apple', 'ball','cat', 'zebra'}\n",
    "print(a)\n",
    "a "
   ]
  },
  {
   "cell_type": "code",
   "execution_count": 7,
   "id": "1969a5d9",
   "metadata": {},
   "outputs": [
    {
     "name": "stdout",
     "output_type": "stream",
     "text": [
      "{33, 11, 44, 22}\n"
     ]
    }
   ],
   "source": [
    "#no duplicates\n",
    "a= {11,22,11,33,22,44}\n",
    "print(a)"
   ]
  },
  {
   "cell_type": "code",
   "execution_count": 8,
   "id": "aa4738e3",
   "metadata": {},
   "outputs": [
    {
     "data": {
      "text/plain": [
       "{11, 22, 33, 44}"
      ]
     },
     "execution_count": 8,
     "metadata": {},
     "output_type": "execute_result"
    }
   ],
   "source": [
    "#list to sets\n",
    "a= [11,22,11,33,22,44]\n",
    "set(a)"
   ]
  },
  {
   "cell_type": "code",
   "execution_count": 9,
   "id": "da546832",
   "metadata": {},
   "outputs": [
    {
     "name": "stdout",
     "output_type": "stream",
     "text": [
      "{'cat', 'zebra', 'ball', 'fish', 'apple'}\n"
     ]
    }
   ],
   "source": [
    "a= {'apple', 'ball','cat', 'zebra'}\n",
    "b= 'fish'\n",
    "a.add(b)\n",
    "print(a)"
   ]
  },
  {
   "cell_type": "code",
   "execution_count": 11,
   "id": "1fee0772",
   "metadata": {},
   "outputs": [
    {
     "name": "stdout",
     "output_type": "stream",
     "text": [
      "{'cat', 'ball', 'fish', 'zebra', 'apple'}\n"
     ]
    }
   ],
   "source": [
    "a= {'apple', 'ball','cat', 'zebra'}\n",
    "b= {'fish'}\n",
    "a.update(b)\n",
    "print(a)"
   ]
  },
  {
   "cell_type": "code",
   "execution_count": 12,
   "id": "96bf7df4",
   "metadata": {},
   "outputs": [
    {
     "data": {
      "text/plain": [
       "{'apple', 'cat', 'zebra'}"
      ]
     },
     "execution_count": 12,
     "metadata": {},
     "output_type": "execute_result"
    }
   ],
   "source": [
    "a= {'apple', 'ball','cat', 'zebra'}\n",
    "a.remove('ball')\n",
    "a"
   ]
  },
  {
   "cell_type": "code",
   "execution_count": 16,
   "id": "c130629b",
   "metadata": {},
   "outputs": [
    {
     "name": "stdout",
     "output_type": "stream",
     "text": [
      "{'shyam', 'akash', 'gita', 'ram', 'sita', 'nabin', 'hari'}\n",
      "{'sita', 'shyam', 'hari'}\n"
     ]
    }
   ],
   "source": [
    "abc= {'ram','shyam','hari','sita','gita'}\n",
    "xyz= {'hari', 'sita', 'nabin', 'akash','shyam'}\n",
    "\n",
    "union= abc.union(xyz)\n",
    "print(union)\n",
    "\n",
    "intersection= abc.intersection(xyz)\n",
    "print(intersection)"
   ]
  },
  {
   "cell_type": "code",
   "execution_count": 18,
   "id": "a06d5300",
   "metadata": {},
   "outputs": [
    {
     "data": {
      "text/plain": [
       "{'akash', 'nabin'}"
      ]
     },
     "execution_count": 18,
     "metadata": {},
     "output_type": "execute_result"
    }
   ],
   "source": [
    "abc= {'ram','shyam','hari','sita','gita'}\n",
    "xyz= {'hari', 'sita', 'nabin', 'akash','shyam'}\n",
    "\n",
    "abc.difference(xyz)\n",
    "xyz.difference(abc)"
   ]
  },
  {
   "cell_type": "code",
   "execution_count": 20,
   "id": "7054ea46",
   "metadata": {},
   "outputs": [
    {
     "name": "stdout",
     "output_type": "stream",
     "text": [
      "{'rabin', 'sabin'}\n"
     ]
    }
   ],
   "source": [
    "u= {'shyam', 'akash', 'gita', 'ram', 'sita', 'nabin', 'hari','sabin','rabin'}\n",
    "\n",
    "abc= {'ram','shyam','hari','sita','gita'}\n",
    "xyz= {'hari', 'sita', 'nabin', 'akash','shyam'}\n",
    "\n",
    "union= abc.union(xyz)\n",
    "\n",
    "x=u.difference(union)\n",
    "print(x)\n"
   ]
  },
  {
   "cell_type": "code",
   "execution_count": 21,
   "id": "4870bb3b",
   "metadata": {},
   "outputs": [
    {
     "ename": "NameError",
     "evalue": "name 'c' is not defined",
     "output_type": "error",
     "traceback": [
      "\u001b[1;31m---------------------------------------------------------------------------\u001b[0m",
      "\u001b[1;31mNameError\u001b[0m                                 Traceback (most recent call last)",
      "\u001b[1;32m~\\AppData\\Local\\Temp/ipykernel_10668/1211982284.py\u001b[0m in \u001b[0;36m<module>\u001b[1;34m\u001b[0m\n\u001b[0;32m      3\u001b[0m \u001b[0masd\u001b[0m\u001b[1;33m=\u001b[0m \u001b[1;33m{\u001b[0m\u001b[1;34m'hari,sita,sauryan'\u001b[0m\u001b[1;33m}\u001b[0m\u001b[1;33m\u001b[0m\u001b[1;33m\u001b[0m\u001b[0m\n\u001b[0;32m      4\u001b[0m \u001b[1;33m\u001b[0m\u001b[0m\n\u001b[1;32m----> 5\u001b[1;33m \u001b[0mx\u001b[0m\u001b[1;33m=\u001b[0m \u001b[0ma\u001b[0m\u001b[1;33m.\u001b[0m\u001b[0mintersection\u001b[0m\u001b[1;33m(\u001b[0m\u001b[0mb\u001b[0m\u001b[1;33m,\u001b[0m\u001b[0mc\u001b[0m\u001b[1;33m)\u001b[0m\u001b[1;33m\u001b[0m\u001b[1;33m\u001b[0m\u001b[0m\n\u001b[0m\u001b[0;32m      6\u001b[0m \u001b[0mprint\u001b[0m\u001b[1;33m(\u001b[0m\u001b[0mx\u001b[0m\u001b[1;33m)\u001b[0m\u001b[1;33m\u001b[0m\u001b[1;33m\u001b[0m\u001b[0m\n",
      "\u001b[1;31mNameError\u001b[0m: name 'c' is not defined"
     ]
    }
   ],
   "source": [
    "abc= {'ram','shyam','hari','sita','gita'}\n",
    "xyz= {'hari', 'sita', 'nabin', 'akash','shyam'}\n",
    "asd= {'hari,sita,sauryan'}\n",
    "\n",
    "x= a.intersection()\n",
    "print(x)"
   ]
  },
  {
   "cell_type": "code",
   "execution_count": null,
   "id": "db669d8c",
   "metadata": {},
   "outputs": [],
   "source": []
  }
 ],
 "metadata": {
  "kernelspec": {
   "display_name": "Python 3 (ipykernel)",
   "language": "python",
   "name": "python3"
  },
  "language_info": {
   "codemirror_mode": {
    "name": "ipython",
    "version": 3
   },
   "file_extension": ".py",
   "mimetype": "text/x-python",
   "name": "python",
   "nbconvert_exporter": "python",
   "pygments_lexer": "ipython3",
   "version": "3.9.7"
  }
 },
 "nbformat": 4,
 "nbformat_minor": 5
}
