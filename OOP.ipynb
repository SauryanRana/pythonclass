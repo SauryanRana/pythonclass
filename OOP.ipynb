{
 "cells": [
  {
   "cell_type": "code",
   "execution_count": 1,
   "id": "19c32fbd",
   "metadata": {},
   "outputs": [],
   "source": [
    "# class Hello: #class  first letter must be capital\n",
    "#     pass     \n",
    "\n",
    "# obj= Hello()  #object\n"
   ]
  },
  {
   "cell_type": "code",
   "execution_count": 2,
   "id": "5699cf1b",
   "metadata": {},
   "outputs": [
    {
     "name": "stdout",
     "output_type": "stream",
     "text": [
      "hello world\n"
     ]
    }
   ],
   "source": [
    "class Hello:\n",
    "    print(\"hello world\")\n",
    "\n",
    "obj= Hello()"
   ]
  },
  {
   "cell_type": "code",
   "execution_count": 8,
   "id": "d8c09180",
   "metadata": {},
   "outputs": [
    {
     "name": "stdout",
     "output_type": "stream",
     "text": [
      "hello world\n"
     ]
    }
   ],
   "source": [
    "class Hello:\n",
    "    def hello(self):\n",
    "        print(\"hello world\")\n",
    "\n",
    "obj= Hello()\n",
    "obj.hello()"
   ]
  },
  {
   "cell_type": "code",
   "execution_count": 9,
   "id": "a1bbc214",
   "metadata": {},
   "outputs": [
    {
     "name": "stdout",
     "output_type": "stream",
     "text": [
      "hello world\n"
     ]
    }
   ],
   "source": [
    "class Hello:\n",
    "    @staticmethod #no need self\n",
    "    def hello():\n",
    "        print(\"hello world\")\n",
    "\n",
    "obj= Hello()\n",
    "obj.hello()"
   ]
  },
  {
   "cell_type": "code",
   "execution_count": 12,
   "id": "53cd0c0d",
   "metadata": {},
   "outputs": [
    {
     "name": "stdout",
     "output_type": "stream",
     "text": [
      "20\n",
      "100\n"
     ]
    }
   ],
   "source": [
    "#funtion through value\n",
    "\n",
    "class Cal:\n",
    "    \n",
    "    def cal(self,l,b):\n",
    "        a= l*b\n",
    "        print(a)\n",
    "        \n",
    "    def vol(self,l,b,h):\n",
    "        v=l*b*h\n",
    "        print(v)\n",
    "\n",
    "obj= Cal()\n",
    "obj.cal(10,2)\n",
    "obj.vol(10,2,5)"
   ]
  },
  {
   "cell_type": "code",
   "execution_count": 13,
   "id": "96932ec1",
   "metadata": {},
   "outputs": [
    {
     "name": "stdout",
     "output_type": "stream",
     "text": [
      "50\n",
      "100\n"
     ]
    }
   ],
   "source": [
    "#class through value\n",
    "\n",
    "class Cal:\n",
    "    def __init__(self,l,b,h):\n",
    "        self.l= l\n",
    "        self.b=b\n",
    "        self.h=h\n",
    "    \n",
    "    def cal(self):\n",
    "        a= self.l*self.b\n",
    "        print(a)\n",
    "        \n",
    "    def vol(self):\n",
    "        v=self.l*self.b*self.h\n",
    "        print(v)\n",
    "        \n",
    "\n",
    "obj= Cal(10,5,2)\n",
    "obj.cal()\n",
    "obj.vol()"
   ]
  },
  {
   "cell_type": "code",
   "execution_count": 22,
   "id": "76e58c16",
   "metadata": {},
   "outputs": [
    {
     "name": "stdout",
     "output_type": "stream",
     "text": [
      "enter name- rma\n",
      "enter age- 45\n",
      "enter add- ktm\n",
      "hello world i am rma. i am from ktm. i am 45\n"
     ]
    }
   ],
   "source": [
    "class Info:\n",
    "    def __init__(self):\n",
    "        self.name= input(\"enter name- \")\n",
    "        self.age= int(input(\"enter age- \"))\n",
    "        self.add= input(\"enter add- \")\n",
    "        \n",
    "    def info(self):\n",
    "        print(f\"hello world i am {self.name}. i am from {self.add}. i am {self.age}\")\n",
    "        \n",
    "        \n",
    "obj= Info()\n",
    "obj.info()"
   ]
  },
  {
   "cell_type": "code",
   "execution_count": 25,
   "id": "222727c6",
   "metadata": {},
   "outputs": [
    {
     "name": "stdout",
     "output_type": "stream",
     "text": [
      "50\n",
      "100\n"
     ]
    }
   ],
   "source": [
    "# two or more than 2 classes\n",
    "\n",
    "class Area:\n",
    "    def __init__(self,l,b):\n",
    "        self.l= l\n",
    "        self.b=b\n",
    "    \n",
    "    def area(self):\n",
    "        a= self.l*self.b\n",
    "        print(a)\n",
    "        \n",
    "\n",
    "class Vol:\n",
    "    def __init__(self,l,b,h):\n",
    "        self.l= l\n",
    "        self.b=b\n",
    "        self.h=h\n",
    "    \n",
    "    def vol(self):\n",
    "        v=self.l*self.b*self.h\n",
    "        print(v)\n",
    "        \n",
    "\n",
    "obj= Area(10,5)\n",
    "obj.area()\n",
    "\n",
    "obj1= Vol(10,5,2)\n",
    "obj1.vol()"
   ]
  },
  {
   "cell_type": "code",
   "execution_count": 28,
   "id": "2d3bd415",
   "metadata": {},
   "outputs": [
    {
     "name": "stdout",
     "output_type": "stream",
     "text": [
      "enter name- ram\n",
      "enter age- 45\n",
      "enter add- ktm\n",
      "hello world i am ram. i am from ktm. i am 45\n",
      "ram\n",
      "ktm\n"
     ]
    }
   ],
   "source": [
    "class Info:\n",
    "    def __init__(self):\n",
    "        self.name= input(\"enter name- \")\n",
    "        self.age= int(input(\"enter age- \"))\n",
    "        self.add= input(\"enter add- \")\n",
    "        \n",
    "    def __str__(self):\n",
    "        return self.name\n",
    "    \n",
    "    def address(self):\n",
    "        return self.add\n",
    "        \n",
    "    def info(self):\n",
    "        print(f\"hello world i am {self.name}. i am from {self.add}. i am {self.age}\")\n",
    "        \n",
    "        \n",
    "obj= Info()\n",
    "obj.info()\n",
    "print(obj)\n",
    "print(obj.address())"
   ]
  },
  {
   "cell_type": "code",
   "execution_count": 3,
   "id": "8da2528c",
   "metadata": {},
   "outputs": [
    {
     "name": "stdout",
     "output_type": "stream",
     "text": [
      "ram nepal\n"
     ]
    }
   ],
   "source": [
    "#inheritance (sharing the class property from one to another)\n",
    "\n",
    "class Profile:\n",
    "    def __init__(self,name,address):\n",
    "        self.name=name\n",
    "        self.address=address\n",
    "        \n",
    "\n",
    "class Hr(Profile):\n",
    "    def info(self):\n",
    "        print(self.name,self.address)\n",
    "        \n",
    "x= Hr(\"ram\",\"nepal\")\n",
    "x.info()\n",
    "\n",
    "\n"
   ]
  },
  {
   "cell_type": "code",
   "execution_count": 4,
   "id": "4c1abb85",
   "metadata": {},
   "outputs": [
    {
     "name": "stdout",
     "output_type": "stream",
     "text": [
      "enter name- sauryan\n",
      "enter address- ktm\n",
      "sauryan ktm\n"
     ]
    }
   ],
   "source": [
    "class Profile:\n",
    "    def __init__(self):\n",
    "        self.name=input(\"enter name- \")\n",
    "        self.address=input(\"enter address- \")\n",
    "        \n",
    "\n",
    "class Hr(Profile):\n",
    "    def info(self):\n",
    "        print(self.name,self.address)\n",
    "        \n",
    "x= Hr()\n",
    "x.info()\n",
    "\n"
   ]
  },
  {
   "cell_type": "code",
   "execution_count": 18,
   "id": "479b4c21",
   "metadata": {},
   "outputs": [
    {
     "name": "stdout",
     "output_type": "stream",
     "text": [
      "ram nepal\n"
     ]
    }
   ],
   "source": [
    "class Profile:\n",
    "    def __init__(self,name,address):\n",
    "        self.name=name\n",
    "        self.address=address\n",
    "        \n",
    "\n",
    "class Hr(Profile):\n",
    "    def __init__(self,name,address):\n",
    "        self.name= name\n",
    "        Profile.__init__(self,name,address)\n",
    "        \n",
    "    def info(self):\n",
    "        print(self.name,self.address)\n",
    "        \n",
    "x= Hr(\"ram\",\"nepal\")\n",
    "x.info()\n",
    "\n"
   ]
  },
  {
   "cell_type": "code",
   "execution_count": null,
   "id": "5d6d9e43",
   "metadata": {},
   "outputs": [],
   "source": [
    "# mulilevel inheritance\n",
    "\n",
    "class A:\n",
    "    pass\n",
    "\n",
    "class B(A):\n",
    "    pass\n",
    "\n",
    "class C(B):\n",
    "    pass\n",
    "\n",
    "obj=c()"
   ]
  },
  {
   "cell_type": "code",
   "execution_count": 23,
   "id": "383cd035",
   "metadata": {},
   "outputs": [
    {
     "name": "stdout",
     "output_type": "stream",
     "text": [
      "ram nepal\n"
     ]
    }
   ],
   "source": [
    "# multi class\n",
    "\n",
    "class Name:\n",
    "    def __init__(self,name):\n",
    "        self.name=name\n",
    "        \n",
    "class Address:\n",
    "    def __init__(self,address):\n",
    "        self.address=address\n",
    "\n",
    "class Info(Name,Address):\n",
    "    def __init__(self,name,address):\n",
    "        Name.__init__(self,name)\n",
    "        Address.__init__(self,address)\n",
    "        \n",
    "    def info(self):\n",
    "        print(self.name,self.address)\n",
    "        \n",
    "x= Info(\"ram\",\"nepal\")\n",
    "x.info()\n"
   ]
  },
  {
   "cell_type": "code",
   "execution_count": 26,
   "id": "d5519858",
   "metadata": {},
   "outputs": [
    {
     "name": "stdout",
     "output_type": "stream",
     "text": [
      "ram nepal 56\n"
     ]
    }
   ],
   "source": [
    "class Name:\n",
    "    def __init__(self,name):\n",
    "        self.name=name\n",
    "        \n",
    "class Address:\n",
    "    def __init__(self,address):\n",
    "        self.address=address\n",
    "\n",
    "        \n",
    "class Info(Name,Address):\n",
    "    def __init__(self,name,address,age):\n",
    "        self.age=age\n",
    "        Name.__init__(self,name)\n",
    "        Address.__init__(self,address)\n",
    "        \n",
    "    def info(self):\n",
    "        print(self.name,self.address, self.age)\n",
    "        \n",
    "x= Info(\"ram\",\"nepal\",56)\n",
    "x.info()"
   ]
  },
  {
   "cell_type": "code",
   "execution_count": 27,
   "id": "2684feed",
   "metadata": {},
   "outputs": [
    {
     "name": "stdout",
     "output_type": "stream",
     "text": [
      "ram nepal 56\n"
     ]
    }
   ],
   "source": [
    "class Name:\n",
    "    def __init__(self,name):\n",
    "        self.name=name\n",
    "          \n",
    "class Address:\n",
    "    def __init__(self,name,address):\n",
    "        self.address=address\n",
    "        Name.__init__(self,name)\n",
    "        \n",
    "class Info(Address):\n",
    "    def __init__(self,name,address,age):\n",
    "        self.age=age\n",
    "        Address.__init__(self,name,address)\n",
    "        \n",
    "    def info(self):\n",
    "        print(self.name,self.address, self.age)\n",
    "        \n",
    "x= Info(\"ram\",\"nepal\",56)\n",
    "x.info()"
   ]
  },
  {
   "cell_type": "code",
   "execution_count": 37,
   "id": "8d1e91c5",
   "metadata": {},
   "outputs": [
    {
     "name": "stdout",
     "output_type": "stream",
     "text": [
      "ram nepal 56\n",
      "ram\n"
     ]
    }
   ],
   "source": [
    "class Name:\n",
    "    def __init__(self,name):\n",
    "        self.name=name\n",
    "        \n",
    "    \n",
    "        \n",
    "          \n",
    "class Address:\n",
    "    def __init__(self,name,address):\n",
    "        self.address=address\n",
    "        Name.__init__(self,name)\n",
    "        \n",
    "class Info(Address):\n",
    "    def __init__(self,name,address,age):\n",
    "        self.age=age\n",
    "        Address.__init__(self,name,address)\n",
    "        \n",
    "    def info(self):\n",
    "        print(self.name,self.address, self.age)\n",
    "        \n",
    "x= Info(\"ram\",\"nepal\",56)\n",
    "x.info()\n",
    "print(x.name)"
   ]
  },
  {
   "cell_type": "code",
   "execution_count": 2,
   "id": "3b045b93",
   "metadata": {},
   "outputs": [
    {
     "name": "stdout",
     "output_type": "stream",
     "text": [
      "ram\n",
      "34\n",
      "nepal\n"
     ]
    }
   ],
   "source": [
    "# public members\n",
    "\n",
    "\n",
    "class Info:\n",
    "    def __init__(self,name,age,address):\n",
    "        self.name= name\n",
    "        self.age= age\n",
    "        self.address= address\n",
    "    \n",
    "obj= Info('ram',34, 'nepal')\n",
    "print(obj.name)\n",
    "print(obj.age)\n",
    "print(obj.address)\n"
   ]
  },
  {
   "cell_type": "code",
   "execution_count": 3,
   "id": "ecf5fcb2",
   "metadata": {},
   "outputs": [
    {
     "name": "stdout",
     "output_type": "stream",
     "text": [
      "ram\n",
      "34\n",
      "nepal\n"
     ]
    }
   ],
   "source": [
    "# protected members\n",
    "\n",
    "\n",
    "class Info:\n",
    "    def __init__(self,name,age,address):\n",
    "        self._name= name\n",
    "        self._age= age\n",
    "        self._address= address\n",
    "    \n",
    "obj= Info('ram',34, 'nepal')\n",
    "print(obj._name)\n",
    "print(obj._age)\n",
    "print(obj._address)"
   ]
  },
  {
   "cell_type": "code",
   "execution_count": 4,
   "id": "20296f54",
   "metadata": {},
   "outputs": [
    {
     "ename": "AttributeError",
     "evalue": "'Info' object has no attribute '__name'",
     "output_type": "error",
     "traceback": [
      "\u001b[1;31m---------------------------------------------------------------------------\u001b[0m",
      "\u001b[1;31mAttributeError\u001b[0m                            Traceback (most recent call last)",
      "\u001b[1;32m~\\AppData\\Local\\Temp/ipykernel_712/2730036261.py\u001b[0m in \u001b[0;36m<module>\u001b[1;34m\u001b[0m\n\u001b[0;32m      9\u001b[0m \u001b[1;33m\u001b[0m\u001b[0m\n\u001b[0;32m     10\u001b[0m \u001b[0mobj\u001b[0m\u001b[1;33m=\u001b[0m \u001b[0mInfo\u001b[0m\u001b[1;33m(\u001b[0m\u001b[1;34m'ram'\u001b[0m\u001b[1;33m,\u001b[0m\u001b[1;36m34\u001b[0m\u001b[1;33m,\u001b[0m \u001b[1;34m'nepal'\u001b[0m\u001b[1;33m)\u001b[0m\u001b[1;33m\u001b[0m\u001b[1;33m\u001b[0m\u001b[0m\n\u001b[1;32m---> 11\u001b[1;33m \u001b[0mprint\u001b[0m\u001b[1;33m(\u001b[0m\u001b[0mobj\u001b[0m\u001b[1;33m.\u001b[0m\u001b[0m__name\u001b[0m\u001b[1;33m)\u001b[0m\u001b[1;33m\u001b[0m\u001b[1;33m\u001b[0m\u001b[0m\n\u001b[0m\u001b[0;32m     12\u001b[0m \u001b[0mprint\u001b[0m\u001b[1;33m(\u001b[0m\u001b[0mobj\u001b[0m\u001b[1;33m.\u001b[0m\u001b[0m__age\u001b[0m\u001b[1;33m)\u001b[0m\u001b[1;33m\u001b[0m\u001b[1;33m\u001b[0m\u001b[0m\n\u001b[0;32m     13\u001b[0m \u001b[0mprint\u001b[0m\u001b[1;33m(\u001b[0m\u001b[0mobj\u001b[0m\u001b[1;33m.\u001b[0m\u001b[0m__address\u001b[0m\u001b[1;33m)\u001b[0m\u001b[1;33m\u001b[0m\u001b[1;33m\u001b[0m\u001b[0m\n",
      "\u001b[1;31mAttributeError\u001b[0m: 'Info' object has no attribute '__name'"
     ]
    }
   ],
   "source": [
    "# private members\n",
    "\n",
    "\n",
    "class Info:\n",
    "    def __init__(self,name,age,address):\n",
    "        self.__name= name\n",
    "        self.__age= age\n",
    "        self.__address= address\n",
    "    \n",
    "obj= Info('ram',34, 'nepal')\n",
    "print(obj.__name)\n",
    "print(obj.__age)\n",
    "print(obj.__address) #can't be accessed outside"
   ]
  },
  {
   "cell_type": "code",
   "execution_count": 6,
   "id": "b353b632",
   "metadata": {},
   "outputs": [
    {
     "name": "stdout",
     "output_type": "stream",
     "text": [
      "ram\n",
      "34\n",
      "nepal\n"
     ]
    }
   ],
   "source": [
    "# protected members\n",
    "\n",
    "\n",
    "class Info:\n",
    "    def __init__(self,name,age,address):\n",
    "        self.__name= name\n",
    "        self.__age= age\n",
    "        self.__address= address\n",
    "    \n",
    "obj= Info('ram',34, 'nepal')\n",
    "print(obj._Info__name)\n",
    "print(obj._Info__age)\n",
    "print(obj._Info__address)"
   ]
  },
  {
   "cell_type": "code",
   "execution_count": 8,
   "id": "7029972a",
   "metadata": {},
   "outputs": [
    {
     "name": "stdout",
     "output_type": "stream",
     "text": [
      "enter name- sauryan\n",
      "enter your age- 45\n",
      "enter address- nepal\n",
      "hello world, I am sauryan. I am from nepal. I am 45\n"
     ]
    }
   ],
   "source": [
    "class Profile:\n",
    "    def __init__(self):\n",
    "        self._name=input(\"enter name- \")\n",
    "        self.__age= int(input(\"enter your age- \"))\n",
    "        self.address=input(\"enter address- \")\n",
    "        \n",
    "\n",
    "class Hr(Profile):\n",
    "    def info(self):\n",
    "        print(f\"hello world, I am {self._name}. I am from {self.address}. I am {self._Profile__age}\")\n",
    "        \n",
    "x= Hr()\n",
    "x.info()\n"
   ]
  },
  {
   "cell_type": "code",
   "execution_count": 12,
   "id": "f57f6b0c",
   "metadata": {},
   "outputs": [
    {
     "name": "stdout",
     "output_type": "stream",
     "text": [
      "Hello I am ram.I am from nepal. I am  56\n",
      "ram\n",
      "nepal\n",
      "56\n"
     ]
    }
   ],
   "source": [
    "\n",
    "class Name:\n",
    "    def __init__(self,name):\n",
    "        self.name=name\n",
    "        \n",
    "    \n",
    "        \n",
    "          \n",
    "class Address:\n",
    "    def __init__(self,name,address):\n",
    "        self._address=address\n",
    "        Name.__init__(self,name)\n",
    "        \n",
    "class Info(Address):\n",
    "    def __init__(self,name,address,age):\n",
    "        self.__age=age\n",
    "        Address.__init__(self,name,address)\n",
    "        \n",
    "    def info(self):\n",
    "        print(f\"Hello I am {self.name}.I am from {self._address}. I am  {self.__age}\") #function inside same class so can directly print private\n",
    "        \n",
    "x= Info(\"ram\",\"nepal\",56)\n",
    "x.info()\n",
    "print(x.name)\n",
    "print(x._address)\n",
    "print(x._Info__age)\n",
    "    \n",
    "        \n",
    "          \n",
    "\n",
    "        "
   ]
  },
  {
   "cell_type": "code",
   "execution_count": 16,
   "id": "4d1ca337",
   "metadata": {},
   "outputs": [
    {
     "name": "stdout",
     "output_type": "stream",
     "text": [
      "enter name- sauryan\n",
      "enter your age- 23\n",
      "enter address- nepal\n"
     ]
    },
    {
     "data": {
      "text/plain": [
       "23"
      ]
     },
     "execution_count": 16,
     "metadata": {},
     "output_type": "execute_result"
    }
   ],
   "source": [
    "class Profile:\n",
    "    def __init__(self):\n",
    "        self._name=input(\"enter name- \")\n",
    "        self.__age= int(input(\"enter your age- \"))\n",
    "        self.address=input(\"enter address- \")\n",
    "        \n",
    "    def age(self):\n",
    "        return self.__age\n",
    "        \n",
    "\n",
    "class Hr(Profile):\n",
    "    def info(self):\n",
    "        print(f\"hello world, I am {self._name}. I am from {self.address}. I am {super().age()}\")\n",
    "#         print(super().age()) \n",
    "        \n",
    "        \n",
    "x= Hr()\n",
    "x.age()"
   ]
  },
  {
   "cell_type": "code",
   "execution_count": null,
   "id": "1b10e7e0",
   "metadata": {},
   "outputs": [],
   "source": []
  }
 ],
 "metadata": {
  "kernelspec": {
   "display_name": "Python 3 (ipykernel)",
   "language": "python",
   "name": "python3"
  },
  "language_info": {
   "codemirror_mode": {
    "name": "ipython",
    "version": 3
   },
   "file_extension": ".py",
   "mimetype": "text/x-python",
   "name": "python",
   "nbconvert_exporter": "python",
   "pygments_lexer": "ipython3",
   "version": "3.9.7"
  }
 },
 "nbformat": 4,
 "nbformat_minor": 5
}
